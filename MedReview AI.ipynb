{
 "cells": [
  {
   "cell_type": "markdown",
   "metadata": {},
   "source": [
    "# A representative image of the data used"
   ]
  },
  {
   "cell_type": "markdown",
   "metadata": {},
   "source": [
    "<img src=\"ex2.jpg\" alt=\"Image Description\" width=\"550\">\n",
    "<img src=\"ex1.png\" alt=\"Image Description\" width=\"900\">\n",
    "\n",
    "\n",
    "\n",
    "\n"
   ]
  },
  {
   "cell_type": "markdown",
   "metadata": {},
   "source": [
    "# Dataset Validation and Problem Statement\n",
    "## 1. Dataset Overview:\n",
    "- The dataset simulates customer feedback data for a **Aladdin Pharmacy** in Egypt.\n",
    "- Total Records: 1,500 rows.\n",
    "- Main Fields:\n",
    "    - **customer_name:** Simulated customer names.\n",
    "    - **gender:** Customer gender (Male/Female).\n",
    "    - **medicine_name:** Name of the medicine.\n",
    "    - **type:** Medicine category (e.g., Antibiotic, Pain Relief, Digestive Aid, etc.).\n",
    "    - **customer_feedback:** Textual customer reviews.\n",
    "    - **sentiment:** Sentiment classification (Positive, Negative, Neutral).\n",
    "## 2. Problem Statement:\n",
    "- Perform Sentiment Analysis on customer feedback to classify whether the review is Positive, Negative, or Neutral.\n",
    "## 3. Tools and Frameworks:\n",
    "\n",
    "- Data Processing & Modeling: Python (TensorFlow/Keras, Pandas, NLTK, Scikit-learn).\n",
    "- Database: MongoDB for data storage and management.\n",
    "- Backend: Flask/FastAPI for API development and MongoDB integration.\n",
    "- Front-End: React.js or Vue.js for building an interactive dashboard.\n",
    "## 4.Front-End Dashboard Features:\n",
    "\n",
    "- Input Section:\n",
    "    - User enters the customer feedback (text input).\n",
    "\n",
    "- Output Section:\n",
    "    - Immediate classification of sentiment: Positive, Negative, or Neutral.\n",
    "## 5.Practical Benefits for the User:\n",
    "\n",
    "- For Pharmacists/Managers:\n",
    "    - Monitor medicines with frequent negative feedback for improvements.\n",
    "    - Analyze customer trends and satisfaction levels.\n",
    "    - Identify top-performing medicines based on positive reviews.\n",
    "\n",
    "- For Staff:\n",
    "    - Easily log and analyze customer feedback.\n",
    "    - Generate interactive reports for better decision-making"
   ]
  },
  {
   "cell_type": "markdown",
   "metadata": {},
   "source": [
    "# important library"
   ]
  },
  {
   "cell_type": "code",
   "execution_count": 2,
   "metadata": {},
   "outputs": [
    {
     "name": "stderr",
     "output_type": "stream",
     "text": [
      "C:\\Users\\dell\\AppData\\Roaming\\Python\\Python312\\site-packages\\tqdm\\auto.py:21: TqdmWarning: IProgress not found. Please update jupyter and ipywidgets. See https://ipywidgets.readthedocs.io/en/stable/user_install.html\n",
      "  from .autonotebook import tqdm as notebook_tqdm\n"
     ]
    },
    {
     "name": "stdout",
     "output_type": "stream",
     "text": [
      "WARNING:tensorflow:From C:\\Users\\dell\\AppData\\Roaming\\Python\\Python312\\site-packages\\tf_keras\\src\\losses.py:2976: The name tf.losses.sparse_softmax_cross_entropy is deprecated. Please use tf.compat.v1.losses.sparse_softmax_cross_entropy instead.\n",
      "\n"
     ]
    }
   ],
   "source": [
    "import shutil\n",
    "import zipfile\n",
    "import tensorflow as tf\n",
    "from tensorflow.keras.preprocessing.image import ImageDataGenerator\n",
    "from tensorflow.keras.models import Sequential\n",
    "from tensorflow.keras.layers import Conv2D, MaxPooling2D, Flatten, Dense, Dropout\n",
    "import pandas as pd\n",
    "import numpy as np\n",
    "import seaborn as sns\n",
    "import plotly\n",
    "import plotly.express as px\n",
    "import plotly.graph_objects as go\n",
    "import warnings\n",
    "from pycountry_convert import country_alpha2_to_country_name, country_name_to_country_alpha3\n",
    "import matplotlib.pyplot as plt\n",
    "from sklearn.preprocessing import MinMaxScaler, StandardScaler\n",
    "from sklearn.feature_extraction.text import TfidfVectorizer\n",
    "from sklearn.model_selection import train_test_split\n",
    "from sklearn.linear_model import ElasticNetCV, RidgeCV, LassoCV\n",
    "from tensorflow.keras.preprocessing.text import Tokenizer\n",
    "from tensorflow.keras.preprocessing.sequence import pad_sequences\n",
    "from tensorflow.keras.models import Sequential\n",
    "from tensorflow.keras.layers import Embedding, LSTM, Dense, Dropout\n",
    "from sklearn.preprocessing import LabelEncoder\n",
    "from sklearn.compose import ColumnTransformer\n",
    "from sklearn.preprocessing import LabelEncoder, OneHotEncoder, StandardScaler\n",
    "import re\n",
    "from tensorflow.keras.layers import (LSTM, Embedding, Dense, SpatialDropout1D, Dropout, Bidirectional, \n",
    "                                     GlobalAveragePooling1D, GRU, Conv1D, BatchNormalization)\n",
    "from tensorflow.keras.callbacks import EarlyStopping, ReduceLROnPlateau\n",
    "from nltk.corpus import stopwords\n",
    "from nltk.stem import WordNetLemmatizer\n",
    "from tensorflow.keras.optimizers import Adam\n",
    "from torch.utils.data import Dataset\n",
    "from sklearn.metrics import accuracy_score, precision_recall_fscore_support\n",
    "import torch\n",
    "from transformers import DistilBertTokenizer, DistilBertForSequenceClassification, Trainer, TrainingArguments\n",
    "from sklearn.linear_model import LogisticRegression\n",
    "from sklearn.metrics import accuracy_score, classification_report\n",
    "from pymongo import MongoClient\n",
    "import joblib\n",
    "from pymongo import MongoClient\n",
    "import gridfs\n",
    "from transformers import DistilBertForSequenceClassification, DistilBertTokenizer\n",
    "from pymongo import MongoClient\n",
    "import gridfs\n"
   ]
  },
  {
   "cell_type": "markdown",
   "metadata": {},
   "source": [
    "# import data\n",
    "- take head(5) to show data"
   ]
  },
  {
   "cell_type": "code",
   "execution_count": 2,
   "metadata": {},
   "outputs": [
    {
     "data": {
      "text/html": [
       "<div>\n",
       "<style scoped>\n",
       "    .dataframe tbody tr th:only-of-type {\n",
       "        vertical-align: middle;\n",
       "    }\n",
       "\n",
       "    .dataframe tbody tr th {\n",
       "        vertical-align: top;\n",
       "    }\n",
       "\n",
       "    .dataframe thead th {\n",
       "        text-align: right;\n",
       "    }\n",
       "</style>\n",
       "<table border=\"1\" class=\"dataframe\">\n",
       "  <thead>\n",
       "    <tr style=\"text-align: right;\">\n",
       "      <th></th>\n",
       "      <th>id</th>\n",
       "      <th>customer_name</th>\n",
       "      <th>gender</th>\n",
       "      <th>medicine_name</th>\n",
       "      <th>type</th>\n",
       "      <th>customer_feedback</th>\n",
       "      <th>sentiment</th>\n",
       "    </tr>\n",
       "  </thead>\n",
       "  <tbody>\n",
       "    <tr>\n",
       "      <th>0</th>\n",
       "      <td>1</td>\n",
       "      <td>Nora Nassar</td>\n",
       "      <td>Female</td>\n",
       "      <td>Cipro</td>\n",
       "      <td>Antibiotic</td>\n",
       "      <td>A great and effective medicine for diarrhea.</td>\n",
       "      <td>Positive</td>\n",
       "    </tr>\n",
       "    <tr>\n",
       "      <th>1</th>\n",
       "      <td>2</td>\n",
       "      <td>Mia Farag</td>\n",
       "      <td>Female</td>\n",
       "      <td>Clarinase</td>\n",
       "      <td>Decongestant</td>\n",
       "      <td>Excellent for chronic headache pain.</td>\n",
       "      <td>Negative</td>\n",
       "    </tr>\n",
       "    <tr>\n",
       "      <th>2</th>\n",
       "      <td>3</td>\n",
       "      <td>Amira Johnson</td>\n",
       "      <td>Female</td>\n",
       "      <td>Motilium</td>\n",
       "      <td>Digestive Aid</td>\n",
       "      <td>Highly recommend it for treating infections.</td>\n",
       "      <td>Negative</td>\n",
       "    </tr>\n",
       "    <tr>\n",
       "      <th>3</th>\n",
       "      <td>4</td>\n",
       "      <td>Michael Taha</td>\n",
       "      <td>Male</td>\n",
       "      <td>Strepsils</td>\n",
       "      <td>Throat Relief</td>\n",
       "      <td>A great and effective medicine for diarrhea.</td>\n",
       "      <td>Negative</td>\n",
       "    </tr>\n",
       "    <tr>\n",
       "      <th>4</th>\n",
       "      <td>5</td>\n",
       "      <td>Emma Hassan</td>\n",
       "      <td>Female</td>\n",
       "      <td>Paracetamol</td>\n",
       "      <td>Pain Relief</td>\n",
       "      <td>I felt much better after using it.</td>\n",
       "      <td>Neutral</td>\n",
       "    </tr>\n",
       "  </tbody>\n",
       "</table>\n",
       "</div>"
      ],
      "text/plain": [
       "   id  customer_name  gender medicine_name           type  \\\n",
       "0   1    Nora Nassar  Female         Cipro     Antibiotic   \n",
       "1   2      Mia Farag  Female     Clarinase   Decongestant   \n",
       "2   3  Amira Johnson  Female      Motilium  Digestive Aid   \n",
       "3   4   Michael Taha    Male     Strepsils  Throat Relief   \n",
       "4   5    Emma Hassan  Female   Paracetamol    Pain Relief   \n",
       "\n",
       "                              customer_feedback sentiment  \n",
       "0  A great and effective medicine for diarrhea.  Positive  \n",
       "1          Excellent for chronic headache pain.  Negative  \n",
       "2  Highly recommend it for treating infections.  Negative  \n",
       "3  A great and effective medicine for diarrhea.  Negative  \n",
       "4            I felt much better after using it.   Neutral  "
      ]
     },
     "execution_count": 2,
     "metadata": {},
     "output_type": "execute_result"
    }
   ],
   "source": [
    "data = pd.read_csv('Aladdin_Pharmacy.csv')\n",
    "\n",
    "data.head(5)"
   ]
  },
  {
   "cell_type": "markdown",
   "metadata": {},
   "source": [
    "# describe\n",
    "- The describe method shows count (The number of not-empty values),mean (The average (mean) value),std (The standard deviation)<br>\n",
    "min(the minimum value),25% -(The 25% percentile*),50% (The 50% percentile*),75% (The 75% percentile*),max (the maximum value)<br>\n",
    "for each column in the dataset <br>"
   ]
  },
  {
   "cell_type": "code",
   "execution_count": 3,
   "metadata": {},
   "outputs": [
    {
     "data": {
      "text/html": [
       "<div>\n",
       "<style scoped>\n",
       "    .dataframe tbody tr th:only-of-type {\n",
       "        vertical-align: middle;\n",
       "    }\n",
       "\n",
       "    .dataframe tbody tr th {\n",
       "        vertical-align: top;\n",
       "    }\n",
       "\n",
       "    .dataframe thead th {\n",
       "        text-align: right;\n",
       "    }\n",
       "</style>\n",
       "<table border=\"1\" class=\"dataframe\">\n",
       "  <thead>\n",
       "    <tr style=\"text-align: right;\">\n",
       "      <th></th>\n",
       "      <th>id</th>\n",
       "    </tr>\n",
       "  </thead>\n",
       "  <tbody>\n",
       "    <tr>\n",
       "      <th>count</th>\n",
       "      <td>2500.00000</td>\n",
       "    </tr>\n",
       "    <tr>\n",
       "      <th>mean</th>\n",
       "      <td>1250.50000</td>\n",
       "    </tr>\n",
       "    <tr>\n",
       "      <th>std</th>\n",
       "      <td>721.83216</td>\n",
       "    </tr>\n",
       "    <tr>\n",
       "      <th>min</th>\n",
       "      <td>1.00000</td>\n",
       "    </tr>\n",
       "    <tr>\n",
       "      <th>25%</th>\n",
       "      <td>625.75000</td>\n",
       "    </tr>\n",
       "    <tr>\n",
       "      <th>50%</th>\n",
       "      <td>1250.50000</td>\n",
       "    </tr>\n",
       "    <tr>\n",
       "      <th>75%</th>\n",
       "      <td>1875.25000</td>\n",
       "    </tr>\n",
       "    <tr>\n",
       "      <th>max</th>\n",
       "      <td>2500.00000</td>\n",
       "    </tr>\n",
       "  </tbody>\n",
       "</table>\n",
       "</div>"
      ],
      "text/plain": [
       "               id\n",
       "count  2500.00000\n",
       "mean   1250.50000\n",
       "std     721.83216\n",
       "min       1.00000\n",
       "25%     625.75000\n",
       "50%    1250.50000\n",
       "75%    1875.25000\n",
       "max    2500.00000"
      ]
     },
     "execution_count": 3,
     "metadata": {},
     "output_type": "execute_result"
    }
   ],
   "source": [
    "data.describe()"
   ]
  },
  {
   "cell_type": "markdown",
   "metadata": {},
   "source": [
    "# information"
   ]
  },
  {
   "cell_type": "code",
   "execution_count": 4,
   "metadata": {},
   "outputs": [
    {
     "name": "stdout",
     "output_type": "stream",
     "text": [
      "<class 'pandas.core.frame.DataFrame'>\n",
      "RangeIndex: 2500 entries, 0 to 2499\n",
      "Data columns (total 7 columns):\n",
      " #   Column             Non-Null Count  Dtype \n",
      "---  ------             --------------  ----- \n",
      " 0   id                 2500 non-null   int64 \n",
      " 1   customer_name      2500 non-null   object\n",
      " 2   gender             2500 non-null   object\n",
      " 3   medicine_name      2500 non-null   object\n",
      " 4   type               2500 non-null   object\n",
      " 5   customer_feedback  2500 non-null   object\n",
      " 6   sentiment          2500 non-null   object\n",
      "dtypes: int64(1), object(6)\n",
      "memory usage: 136.8+ KB\n"
     ]
    }
   ],
   "source": [
    "data.info()"
   ]
  },
  {
   "cell_type": "markdown",
   "metadata": {},
   "source": [
    "# delete duplicated"
   ]
  },
  {
   "cell_type": "code",
   "execution_count": 5,
   "metadata": {},
   "outputs": [
    {
     "data": {
      "text/plain": [
       "0       False\n",
       "1       False\n",
       "2       False\n",
       "3       False\n",
       "4       False\n",
       "        ...  \n",
       "2495    False\n",
       "2496    False\n",
       "2497    False\n",
       "2498    False\n",
       "2499    False\n",
       "Length: 2500, dtype: bool"
      ]
     },
     "execution_count": 5,
     "metadata": {},
     "output_type": "execute_result"
    }
   ],
   "source": [
    "data.duplicated()"
   ]
  },
  {
   "cell_type": "code",
   "execution_count": 6,
   "metadata": {},
   "outputs": [],
   "source": [
    "data.drop_duplicates(inplace=True)"
   ]
  },
  {
   "cell_type": "code",
   "execution_count": 7,
   "metadata": {},
   "outputs": [
    {
     "data": {
      "text/plain": [
       "False"
      ]
     },
     "execution_count": 7,
     "metadata": {},
     "output_type": "execute_result"
    }
   ],
   "source": [
    "data.duplicated().any()"
   ]
  },
  {
   "cell_type": "markdown",
   "metadata": {},
   "source": [
    "# show total nan value"
   ]
  },
  {
   "cell_type": "code",
   "execution_count": 8,
   "metadata": {},
   "outputs": [
    {
     "name": "stdout",
     "output_type": "stream",
     "text": [
      "Null values per column : \n",
      "\n",
      "id                   0\n",
      "customer_name        0\n",
      "gender               0\n",
      "medicine_name        0\n",
      "type                 0\n",
      "customer_feedback    0\n",
      "sentiment            0\n",
      "dtype: int64\n"
     ]
    }
   ],
   "source": [
    "print(f\"Null values per column : \\n\\n{data.isna().sum()}\")"
   ]
  },
  {
   "cell_type": "markdown",
   "metadata": {},
   "source": [
    "# Number of features per class or number of inputs per classes\n",
    "-    excluding 'customer_name' and 'medicine_name'"
   ]
  },
  {
   "cell_type": "code",
   "execution_count": 9,
   "metadata": {},
   "outputs": [
    {
     "name": "stdout",
     "output_type": "stream",
     "text": [
      "Number of Inputs Per Class:\n",
      "\n",
      "Class Distribution for 'customer_feedback':\n",
      "customer_feedback\n",
      "It is effective but has minor side effects.          165\n",
      "Good medicine with a reasonable price.               164\n",
      "The price is good, but it is slow to take effect.    157\n",
      "Fast-acting but causes nausea sometimes.             157\n",
      "A great and effective medicine for diarrhea.         149\n",
      "Highly recommend it for treating infections.         144\n",
      "Unfortunately, I did not feel any improvement.       144\n",
      "Excellent for chronic headache pain.                 143\n",
      "The medicine is excellent and very effective.        140\n",
      "I felt much better after using it.                   137\n",
      "It did the job, nothing to complain about.            76\n",
      "It didn't help at all, very disappointing.            74\n",
      "A great product, I feel so much better now.           72\n",
      "It's fine, but I expected more improvement.           71\n",
      "The product was okay, not exceptional.                71\n",
      "This product was completely ineffective.              70\n",
      "Not worth it, I felt worse after using this.          68\n",
      "Did not meet my expectations at all.                  67\n",
      "Solved my problem, I am very satisfied.               67\n",
      "Nothing special, just another medicine.               65\n",
      "I had mixed feelings, it works but not great.         63\n",
      "Caused some side effects, very poor quality.          62\n",
      "This worked perfectly for my condition.               61\n",
      "Amazing results, highly recommend this medicine.      60\n",
      "Very effective and no side effects.                   53\n",
      "Name: count, dtype: int64\n",
      "\n",
      "Class Distribution for 'gender':\n",
      "gender\n",
      "Male      1296\n",
      "Female    1204\n",
      "Name: count, dtype: int64\n",
      "\n",
      "Class Distribution for 'sentiment':\n",
      "sentiment\n",
      "Negative    877\n",
      "Positive    827\n",
      "Neutral     796\n",
      "Name: count, dtype: int64\n",
      "\n",
      "Class Distribution for 'type':\n",
      "type\n",
      "Antibiotic             372\n",
      "Pain Relief            359\n",
      "Digestive Aid          283\n",
      "Anti-inflammatory      228\n",
      "Acid Relief            209\n",
      "Supplement             196\n",
      "Antihistamine          153\n",
      "Throat Relief          149\n",
      "Antidiarrheal          146\n",
      "Thyroid Support        136\n",
      "Decongestant           135\n",
      "Circulatory Support    134\n",
      "Name: count, dtype: int64\n",
      "\n",
      "Total Number of Features (Columns): 5\n",
      "\n",
      "Number of Inputs Per Sentiment Class:\n",
      "sentiment\n",
      "Negative    877\n",
      "Positive    827\n",
      "Neutral     796\n",
      "Name: count, dtype: int64\n"
     ]
    }
   ],
   "source": [
    "categorical_columns = data.select_dtypes(include=['object']).columns.difference(['customer_name', 'medicine_name'])\n",
    "\n",
    "print(\"Number of Inputs Per Class:\")\n",
    "for col in categorical_columns:\n",
    "    print(f\"\\nClass Distribution for '{col}':\")\n",
    "    print(data[col].value_counts())\n",
    "\n",
    "num_features = data.drop(columns=['customer_name', 'medicine_name']).shape[1]\n",
    "print(f\"\\nTotal Number of Features (Columns): {num_features}\")\n",
    "\n",
    "if 'sentiment' in data.columns:\n",
    "    sentiment_classes = data['sentiment'].value_counts()\n",
    "    print(\"\\nNumber of Inputs Per Sentiment Class:\")\n",
    "    print(sentiment_classes)\n"
   ]
  },
  {
   "cell_type": "markdown",
   "metadata": {},
   "source": [
    "# Top Medicines by Sentiment\n",
    "- Group by sentiment and count medicines\n",
    "- Get top 5 medicines per sentiment\n",
    "- Display result"
   ]
  },
  {
   "cell_type": "code",
   "execution_count": 10,
   "metadata": {},
   "outputs": [
    {
     "name": "stdout",
     "output_type": "stream",
     "text": [
      "Top 5 Medicines with Positive Sentiment:\n",
      "  sentiment medicine_name  count\n",
      "0  Positive      Voltaren     45\n",
      "1  Positive        Nexium     44\n",
      "2  Positive        Brufen     43\n",
      "3  Positive      Cataflam     41\n",
      "4  Positive         Cipro     40\n",
      "\n",
      "Top 5 Medicines with Negative Sentiment:\n",
      "  sentiment medicine_name  count\n",
      "0  Negative     Strepsils     53\n",
      "1  Negative      Euthyrox     52\n",
      "2  Negative        Zyrtec     50\n",
      "3  Negative        Nexium     43\n",
      "4  Negative          Adol     42\n",
      "\n",
      "Top 5 Medicines with Neutral Sentiment:\n",
      "  sentiment    medicine_name  count\n",
      "0   Neutral          Antinal     44\n",
      "1   Neutral           Brufen     42\n",
      "2   Neutral    Panadol Extra     39\n",
      "3   Neutral             Adol     38\n",
      "4   Neutral  Spasmo Digestin     38\n"
     ]
    }
   ],
   "source": [
    "top_medicines = data.groupby(['sentiment', 'medicine_name']).size().reset_index(name='count')\n",
    "\n",
    "top_positive = top_medicines[top_medicines['sentiment'] == 'Positive'].nlargest(5, 'count').reset_index(drop=True)\n",
    "top_negative = top_medicines[top_medicines['sentiment'] == 'Negative'].nlargest(5, 'count').reset_index(drop=True)\n",
    "top_neutral = top_medicines[top_medicines['sentiment'] == 'Neutral'].nlargest(5, 'count').reset_index(drop=True)\n",
    "\n",
    "print(\"Top 5 Medicines with Positive Sentiment:\")\n",
    "print(top_positive)\n",
    "\n",
    "print(\"\\nTop 5 Medicines with Negative Sentiment:\")\n",
    "print(top_negative)\n",
    "\n",
    "print(\"\\nTop 5 Medicines with Neutral Sentiment:\")\n",
    "print(top_neutral)\n"
   ]
  },
  {
   "cell_type": "markdown",
   "metadata": {},
   "source": [
    "# Sentiment Distribution Analysis\n"
   ]
  },
  {
   "cell_type": "code",
   "execution_count": 11,
   "metadata": {},
   "outputs": [
    {
     "data": {
      "image/png": "[encoded data removed]",
      "text/plain": [
       "<Figure size 800x500 with 1 Axes>"
      ]
     },
     "metadata": {},
     "output_type": "display_data"
    }
   ],
   "source": [
    "sentiment_counts = data['sentiment'].value_counts()\n",
    "\n",
    "plt.figure(figsize=(8, 5))\n",
    "sns.barplot(x=sentiment_counts.index, y=sentiment_counts.values)\n",
    "plt.title('Sentiment Distribution')\n",
    "plt.xlabel('Sentiment')\n",
    "plt.ylabel('Count')\n",
    "plt.show()\n"
   ]
  },
  {
   "cell_type": "markdown",
   "metadata": {},
   "source": [
    "# Sentiment distribution by type"
   ]
  },
  {
   "cell_type": "code",
   "execution_count": 12,
   "metadata": {},
   "outputs": [
    {
     "data": {
      "image/png": "[encoded data removed]",
      "text/plain": [
       "<Figure size 1200x600 with 1 Axes>"
      ]
     },
     "metadata": {},
     "output_type": "display_data"
    }
   ],
   "source": [
    "\n",
    "sentiment_by_type = data.groupby(['type', 'sentiment']).size().reset_index(name='count')\n",
    "\n",
    "\n",
    "plt.figure(figsize=(12, 6))\n",
    "sns.barplot(x='type', y='count', hue='sentiment', data=sentiment_by_type)\n",
    "plt.title('Sentiment Distribution by Medicine Type')\n",
    "plt.xticks(rotation=45)\n",
    "plt.ylabel('Count')\n",
    "plt.xlabel('Medicine Type')\n",
    "plt.legend(title='Sentiment')\n",
    "plt.show()\n"
   ]
  },
  {
   "cell_type": "markdown",
   "metadata": {},
   "source": [
    "# Sentiment distribution by gender"
   ]
  },
  {
   "cell_type": "code",
   "execution_count": 13,
   "metadata": {},
   "outputs": [
    {
     "data": {
      "image/png": "[encoded data removed]",
      "text/plain": [
       "<Figure size 800x500 with 1 Axes>"
      ]
     },
     "metadata": {},
     "output_type": "display_data"
    }
   ],
   "source": [
    "sentiment_by_gender = data.groupby(['gender', 'sentiment']).size().reset_index(name='count')\n",
    "\n",
    "plt.figure(figsize=(8, 5))\n",
    "sns.barplot(x='gender', y='count', hue='sentiment', data=sentiment_by_gender)\n",
    "plt.title('Sentiment Distribution by Gender')\n",
    "plt.xlabel('Gender')\n",
    "plt.ylabel('Count')\n",
    "plt.legend(title='Sentiment')\n",
    "plt.show()\n"
   ]
  },
  {
   "cell_type": "markdown",
   "metadata": {},
   "source": [
    "# Encode Categorical Data for Correlation\n",
    "- sentiment\n",
    "    - Positive = 2, Neutral = 1, Negative = 0\n",
    "- gender\n",
    "    - Male = 1, Female = 0\n",
    "- type\n",
    "    - Encode medicine type 0 to n"
   ]
  },
  {
   "cell_type": "code",
   "execution_count": 14,
   "metadata": {},
   "outputs": [
    {
     "name": "stdout",
     "output_type": "stream",
     "text": [
      "   id  customer_name  gender medicine_name  type  \\\n",
      "0   1    Nora Nassar       0         Cipro     2   \n",
      "1   2      Mia Farag       0     Clarinase     6   \n",
      "2   3  Amira Johnson       0      Motilium     7   \n",
      "3   4   Michael Taha       1     Strepsils    10   \n",
      "4   5    Emma Hassan       0   Paracetamol     8   \n",
      "\n",
      "                              customer_feedback  sentiment  \n",
      "0  A great and effective medicine for diarrhea.          2  \n",
      "1          Excellent for chronic headache pain.          0  \n",
      "2  Highly recommend it for treating infections.          0  \n",
      "3  A great and effective medicine for diarrhea.          0  \n",
      "4            I felt much better after using it.          1  \n"
     ]
    }
   ],
   "source": [
    "label_encoder_sentiment = LabelEncoder()\n",
    "label_encoder_gender = LabelEncoder()\n",
    "label_encoder_type = LabelEncoder()\n",
    "\n",
    "df_encoded = data.copy()\n",
    "\n",
    "\n",
    "df_encoded['sentiment'] = label_encoder_sentiment.fit_transform(data['sentiment'])\n",
    "df_encoded['gender'] = label_encoder_gender.fit_transform(data['gender'])\n",
    "df_encoded['type'] = label_encoder_type.fit_transform(data['type'])\n",
    "\n",
    "print(df_encoded.head())\n",
    "\n",
    "\n"
   ]
  },
  {
   "cell_type": "markdown",
   "metadata": {},
   "source": [
    "# correlation matrix\n",
    "- Drop non-numeric and unnecessary columns\n"
   ]
  },
  {
   "cell_type": "code",
   "execution_count": 15,
   "metadata": {},
   "outputs": [
    {
     "data": {
      "image/png": "[encoded data removed]",
      "text/plain": [
       "<Figure size 800x600 with 2 Axes>"
      ]
     },
     "metadata": {},
     "output_type": "display_data"
    }
   ],
   "source": [
    "df_numeric = df_encoded.drop(columns=['id', 'customer_name', 'medicine_name', 'customer_feedback'])\n",
    "\n",
    "correlation_matrix = df_numeric.corr()\n",
    "\n",
    "plt.figure(figsize=(8, 6))\n",
    "sns.heatmap(correlation_matrix, annot=True, cmap='coolwarm', fmt=\".2f\")\n",
    "plt.title(\"Correlation Matrix Without 'id'\")\n",
    "plt.show()\n",
    "\n",
    "\n"
   ]
  },
  {
   "cell_type": "markdown",
   "metadata": {},
   "source": [
    "# Feature normalization\n",
    "- Min MaxScaler \n",
    "    - 0 -> 1\n",
    "- StandardScaler \n",
    "    - Returns values ​​with mean = 0 and standard deviation = 1."
   ]
  },
  {
   "cell_type": "code",
   "execution_count": 16,
   "metadata": {},
   "outputs": [
    {
     "name": "stdout",
     "output_type": "stream",
     "text": [
      " Min-Max Scaled, and Standardized Data:\n",
      "   id  MinMax_id  Standard_id\n",
      "0   1   0.000000    -1.731358\n",
      "1   2   0.000400    -1.729972\n",
      "2   3   0.000800    -1.728587\n",
      "3   4   0.001200    -1.727201\n",
      "4   5   0.001601    -1.725816\n"
     ]
    }
   ],
   "source": [
    "numeric_cols = data.select_dtypes(include=['number']).columns\n",
    "data_numeric = data[numeric_cols]\n",
    "\n",
    "minmax_scaler = MinMaxScaler()\n",
    "standard_scaler = StandardScaler()\n",
    "\n",
    "\n",
    "data_minmax = pd.DataFrame(minmax_scaler.fit_transform(data_numeric), columns=numeric_cols)\n",
    "\n",
    "\n",
    "data_standard = pd.DataFrame(standard_scaler.fit_transform(data_numeric), columns=numeric_cols)\n",
    "\n",
    "\n",
    "data_minmax = data_minmax.add_prefix('MinMax_')\n",
    "data_standard = data_standard.add_prefix('Standard_')\n",
    "\n",
    "\n",
    "normalized_data = pd.concat([data_numeric, data_minmax, data_standard], axis=1)\n",
    "\n",
    "\n",
    "print(\" Min-Max Scaled, and Standardized Data:\")\n",
    "print(normalized_data.head())\n",
    "\n"
   ]
  },
  {
   "cell_type": "markdown",
   "metadata": {},
   "source": [
    "# Regularization Overview:\n",
    "## Regularization is used to prevent overfitting by penalizing large weights in a model.\n",
    "   - L1 Regularization (Lasso):\n",
    "       - Adds the absolute value of the weights as a penalty.\n",
    "       - Encourages sparse solutions (some weights become zero).\n",
    "   - L2 Regularization (Ridge):\n",
    "       - Adds the square of the weights as a penalty.\n",
    "       - Reduces the magnitude of weights without making them zero."
   ]
  },
  {
   "cell_type": "code",
   "execution_count": 17,
   "metadata": {},
   "outputs": [
    {
     "name": "stdout",
     "output_type": "stream",
     "text": [
      "Best alpha using built-in ElasticNetCV(cv=5, random_state=42): 0.009400\n",
      "Best score using built-in ElasticNetCV(cv=5, random_state=42): 0.398429\n",
      "ElasticNetCV(cv=5, random_state=42) picked 69 variables and eliminated the other 31 variables\n",
      "minor         -0.181241\n",
      "felt          -0.083116\n",
      "using         -0.082647\n",
      "completely    -0.081665\n",
      "ineffective   -0.080723\n",
      "                 ...   \n",
      "satisfied      0.054629\n",
      "results        0.065343\n",
      "amazing        0.067262\n",
      "better         0.204150\n",
      "effects        0.215231\n",
      "Length: 100, dtype: float64\n",
      "Best alpha using built-in RidgeCV(): 10.000000\n",
      "Best score using built-in RidgeCV(): 0.400711\n",
      "RidgeCV() picked 100 variables and eliminated the other 0 variables\n",
      "minor         -0.208259\n",
      "completely    -0.096567\n",
      "ineffective   -0.096567\n",
      "quality       -0.070015\n",
      "poor          -0.070015\n",
      "                 ...   \n",
      "results        0.068669\n",
      "feel           0.085506\n",
      "effective      0.085868\n",
      "better         0.099554\n",
      "effects        0.173783\n",
      "Length: 100, dtype: float64\n",
      "Best alpha using built-in LassoCV(): 0.005404\n",
      "Best score using built-in LassoCV(): 0.398166\n",
      "LassoCV() picked 56 variables and eliminated the other 44 variables\n",
      "felt           -0.210891\n",
      "minor          -0.182222\n",
      "completely     -0.153137\n",
      "didn           -0.148452\n",
      "expectations   -0.143934\n",
      "                  ...   \n",
      "amazing         0.131434\n",
      "condition       0.150534\n",
      "problem         0.158307\n",
      "effects         0.215051\n",
      "better          0.262019\n",
      "Length: 100, dtype: float64\n"
     ]
    }
   ],
   "source": [
    "X = data.drop(columns=[\"sentiment\", \"id\", \"customer_name\"]) \n",
    "Y = data[\"sentiment\"]  \n",
    "\n",
    "label_encoder = LabelEncoder()\n",
    "Y_encoded = label_encoder.fit_transform(Y)\n",
    "\n",
    "categorical_columns = ['gender', 'medicine_name', 'type']  \n",
    "column_transformer = ColumnTransformer([\n",
    "    ('cat', OneHotEncoder(handle_unknown='ignore'), categorical_columns)\n",
    "])\n",
    "\n",
    "\n",
    "X_encoded = column_transformer.fit_transform(X)\n",
    "\n",
    "\n",
    "vectorizer = TfidfVectorizer(stop_words='english')\n",
    "X_feedback = vectorizer.fit_transform(X['customer_feedback'])  \n",
    "\n",
    "X_final = np.hstack([X_encoded.toarray(), X_feedback.toarray()])\n",
    "\n",
    "scaler = StandardScaler(with_mean=False)  \n",
    "X_scaled = scaler.fit_transform(X_final)\n",
    "\n",
    "\n",
    "X_train, X_test, Y_train, Y_test = train_test_split(X_scaled, Y_encoded, test_size=0.2, random_state=42)\n",
    "\n",
    "\n",
    "def APPLY_REGULARIZATION(reg):\n",
    "    \n",
    "    reg.fit(X_train, Y_train)\n",
    "    \n",
    "   \n",
    "    print(\"Best alpha using built-in {}: %.6f\".format(str(reg).split('.')[-1]) % reg.alpha_)\n",
    "    print(\"Best score using built-in {}: %.6f\".format(str(reg).split('.')[-1]) % reg.score(X_train, Y_train))\n",
    "  \n",
    "  \n",
    "    categorical_feature_names = column_transformer.get_feature_names_out()  \n",
    "    text_feature_names = vectorizer.get_feature_names_out()  \n",
    "    feature_names = np.concatenate([categorical_feature_names, text_feature_names])  \n",
    "\n",
    "    coef = pd.Series(reg.coef_, index=feature_names)  \n",
    "    print(\"{} picked \".format(str(reg).split('.')[-1]) + str(sum(coef != 0)) + \" variables and eliminated the other \" + str(sum(coef == 0)) + \" variables\")\n",
    "    \n",
    "   \n",
    "    imp_coef = coef.sort_values()\n",
    "    print(imp_coef)\n",
    "\n",
    "\n",
    "APPLY_REGULARIZATION(ElasticNetCV(cv=5, random_state=42, l1_ratio=0.5))  \n",
    "APPLY_REGULARIZATION(RidgeCV())  \n",
    "APPLY_REGULARIZATION(LassoCV()) \n"
   ]
  },
  {
   "cell_type": "markdown",
   "metadata": {},
   "source": [
    "# Model preprocessing \n",
    "## 1. Data Preprocessing:\n",
    "- Text cleaned (lowercased, punctuation/numbers removed, lemmatized, stopwords removed).\n",
    "- Tokenized and padded to fixed length.\n",
    "- Sentiment labels encoded (One-Hot).\n",
    "## 2. Model Architecture:\n",
    "\n",
    "- **Embedding Layer**: Converts words to 100-dim vectors.\n",
    "- **Conv1D + Bidirectional LSTM**: Extract patterns and contextual features.\n",
    "- **BatchNormalization + Dropout**: Prevent overfitting and stabilize training.\n",
    "- **Dense Layer**: L2 regularized with softmax output for 3 classes.\n",
    "## 3. Training:\n",
    "\n",
    "- EarlyStopping: Stops training on validation loss plateau.\n",
    "- ReduceLROnPlateau: Reduces learning rate when validation loss stagnates.\n",
    "\n",
    "## 4. Evaluation:\n",
    "\n",
    "- Plots for accuracy and loss (train vs validation).\n",
    "- Test accuracy and loss printed."
   ]
  },
  {
   "cell_type": "markdown",
   "metadata": {},
   "source": [
    "# Text Cleaning"
   ]
  },
  {
   "cell_type": "code",
   "execution_count": 18,
   "metadata": {},
   "outputs": [],
   "source": [
    "\n",
    "def clean_text(text):\n",
    "    lemmatizer = WordNetLemmatizer()\n",
    "    stop_words = set(stopwords.words('english'))\n",
    "    text = text.lower()\n",
    "    text = re.sub(r'[^\\w\\s]', '', text)\n",
    "    text = re.sub(r'\\d+', '', text)\n",
    "    text = \" \".join([lemmatizer.lemmatize(word) for word in text.split() if word not in stop_words])\n",
    "    return text.strip()\n",
    "\n",
    "data['customer_feedback_cleaned'] = data['customer_feedback'].apply(clean_text)"
   ]
  },
  {
   "cell_type": "markdown",
   "metadata": {},
   "source": [
    "# Label Encoding"
   ]
  },
  {
   "cell_type": "code",
   "execution_count": 19,
   "metadata": {},
   "outputs": [],
   "source": [
    "label_encoder = LabelEncoder()\n",
    "y = label_encoder.fit_transform(data['sentiment'])\n",
    "y = pd.get_dummies(y).values"
   ]
  },
  {
   "cell_type": "markdown",
   "metadata": {},
   "source": [
    "# Tokenization and Padding"
   ]
  },
  {
   "cell_type": "code",
   "execution_count": 20,
   "metadata": {},
   "outputs": [],
   "source": [
    "max_words = 10000\n",
    "max_len = 100\n",
    "tokenizer = Tokenizer(num_words=max_words, oov_token=\"<OOV>\")\n",
    "tokenizer.fit_on_texts(data['customer_feedback_cleaned'])\n",
    "sequences = tokenizer.texts_to_sequences(data['customer_feedback_cleaned'])\n",
    "padded_sequences = pad_sequences(sequences, maxlen=max_len, padding='post')\n",
    "\n",
    "X = padded_sequences\n",
    "X_train, X_test, y_train, y_test = train_test_split(X, y, test_size=0.2, random_state=42)"
   ]
  },
  {
   "cell_type": "code",
   "execution_count": 21,
   "metadata": {},
   "outputs": [],
   "source": [
    "models_accuracy = []"
   ]
  },
  {
   "cell_type": "markdown",
   "metadata": {},
   "source": [
    "# from scratch\n",
    "## 1. Model Building\n",
    "## 2. Compile the Model\n",
    "## 3. Train the Model\n",
    "## 4. Evaluate the Model\n",
    "\n"
   ]
  },
  {
   "cell_type": "code",
   "execution_count": 22,
   "metadata": {},
   "outputs": [
    {
     "name": "stdout",
     "output_type": "stream",
     "text": [
      "Epoch 1/30\n"
     ]
    },
    {
     "name": "stderr",
     "output_type": "stream",
     "text": [
      "C:\\Users\\dell\\AppData\\Roaming\\Python\\Python312\\site-packages\\keras\\src\\layers\\core\\embedding.py:90: UserWarning: Argument `input_length` is deprecated. Just remove it.\n",
      "  warnings.warn(\n"
     ]
    },
    {
     "name": "stdout",
     "output_type": "stream",
     "text": [
      "\u001b[1m32/32\u001b[0m \u001b[32m━━━━━━━━━━━━━━━━━━━━\u001b[0m\u001b[37m\u001b[0m \u001b[1m6s\u001b[0m 97ms/step - accuracy: 0.3261 - loss: 3.1989 - val_accuracy: 0.3240 - val_loss: 2.5456 - learning_rate: 0.0010\n",
      "Epoch 2/30\n",
      "\u001b[1m32/32\u001b[0m \u001b[32m━━━━━━━━━━━━━━━━━━━━\u001b[0m\u001b[37m\u001b[0m \u001b[1m3s\u001b[0m 86ms/step - accuracy: 0.3438 - loss: 2.7408 - val_accuracy: 0.3440 - val_loss: 2.3309 - learning_rate: 0.0010\n",
      "Epoch 3/30\n",
      "\u001b[1m32/32\u001b[0m \u001b[32m━━━━━━━━━━━━━━━━━━━━\u001b[0m\u001b[37m\u001b[0m \u001b[1m3s\u001b[0m 88ms/step - accuracy: 0.3383 - loss: 2.4402 - val_accuracy: 0.3240 - val_loss: 2.1515 - learning_rate: 0.0010\n",
      "Epoch 4/30\n",
      "\u001b[1m32/32\u001b[0m \u001b[32m━━━━━━━━━━━━━━━━━━━━\u001b[0m\u001b[37m\u001b[0m \u001b[1m3s\u001b[0m 86ms/step - accuracy: 0.3342 - loss: 2.2495 - val_accuracy: 0.3240 - val_loss: 2.0027 - learning_rate: 0.0010\n",
      "Epoch 5/30\n",
      "\u001b[1m32/32\u001b[0m \u001b[32m━━━━━━━━━━━━━━━━━━━━\u001b[0m\u001b[37m\u001b[0m \u001b[1m3s\u001b[0m 85ms/step - accuracy: 0.3447 - loss: 2.0691 - val_accuracy: 0.3320 - val_loss: 1.8769 - learning_rate: 0.0010\n",
      "Epoch 6/30\n",
      "\u001b[1m32/32\u001b[0m \u001b[32m━━━━━━━━━━━━━━━━━━━━\u001b[0m\u001b[37m\u001b[0m \u001b[1m3s\u001b[0m 91ms/step - accuracy: 0.3553 - loss: 1.9208 - val_accuracy: 0.3320 - val_loss: 1.7695 - learning_rate: 0.0010\n",
      "Epoch 7/30\n",
      "\u001b[1m32/32\u001b[0m \u001b[32m━━━━━━━━━━━━━━━━━━━━\u001b[0m\u001b[37m\u001b[0m \u001b[1m3s\u001b[0m 86ms/step - accuracy: 0.3290 - loss: 1.8206 - val_accuracy: 0.3320 - val_loss: 1.6815 - learning_rate: 0.0010\n",
      "Epoch 8/30\n",
      "\u001b[1m32/32\u001b[0m \u001b[32m━━━━━━━━━━━━━━━━━━━━\u001b[0m\u001b[37m\u001b[0m \u001b[1m3s\u001b[0m 86ms/step - accuracy: 0.3504 - loss: 1.7108 - val_accuracy: 0.3320 - val_loss: 1.5997 - learning_rate: 0.0010\n",
      "Epoch 9/30\n",
      "\u001b[1m32/32\u001b[0m \u001b[32m━━━━━━━━━━━━━━━━━━━━\u001b[0m\u001b[37m\u001b[0m \u001b[1m4s\u001b[0m 125ms/step - accuracy: 0.3183 - loss: 1.6349 - val_accuracy: 0.3320 - val_loss: 1.5287 - learning_rate: 0.0010\n",
      "Epoch 10/30\n",
      "\u001b[1m32/32\u001b[0m \u001b[32m━━━━━━━━━━━━━━━━━━━━\u001b[0m\u001b[37m\u001b[0m \u001b[1m7s\u001b[0m 202ms/step - accuracy: 0.3272 - loss: 1.5463 - val_accuracy: 0.3320 - val_loss: 1.4696 - learning_rate: 0.0010\n",
      "Epoch 11/30\n",
      "\u001b[1m32/32\u001b[0m \u001b[32m━━━━━━━━━━━━━━━━━━━━\u001b[0m\u001b[37m\u001b[0m \u001b[1m4s\u001b[0m 119ms/step - accuracy: 0.3325 - loss: 1.4821 - val_accuracy: 0.3320 - val_loss: 1.4180 - learning_rate: 0.0010\n",
      "Epoch 12/30\n",
      "\u001b[1m32/32\u001b[0m \u001b[32m━━━━━━━━━━━━━━━━━━━━\u001b[0m\u001b[37m\u001b[0m \u001b[1m3s\u001b[0m 89ms/step - accuracy: 0.3429 - loss: 1.4213 - val_accuracy: 0.3320 - val_loss: 1.3736 - learning_rate: 0.0010\n",
      "Epoch 13/30\n",
      "\u001b[1m32/32\u001b[0m \u001b[32m━━━━━━━━━━━━━━━━━━━━\u001b[0m\u001b[37m\u001b[0m \u001b[1m6s\u001b[0m 198ms/step - accuracy: 0.3356 - loss: 1.3856 - val_accuracy: 0.3320 - val_loss: 1.3360 - learning_rate: 0.0010\n",
      "Epoch 14/30\n",
      "\u001b[1m32/32\u001b[0m \u001b[32m━━━━━━━━━━━━━━━━━━━━\u001b[0m\u001b[37m\u001b[0m \u001b[1m8s\u001b[0m 104ms/step - accuracy: 0.3218 - loss: 1.3506 - val_accuracy: 0.3440 - val_loss: 1.3042 - learning_rate: 0.0010\n",
      "Epoch 15/30\n",
      "\u001b[1m32/32\u001b[0m \u001b[32m━━━━━━━━━━━━━━━━━━━━\u001b[0m\u001b[37m\u001b[0m \u001b[1m3s\u001b[0m 90ms/step - accuracy: 0.3563 - loss: 1.2994 - val_accuracy: 0.3440 - val_loss: 1.2748 - learning_rate: 0.0010\n",
      "Epoch 16/30\n",
      "\u001b[1m32/32\u001b[0m \u001b[32m━━━━━━━━━━━━━━━━━━━━\u001b[0m\u001b[37m\u001b[0m \u001b[1m3s\u001b[0m 99ms/step - accuracy: 0.3586 - loss: 1.2761 - val_accuracy: 0.3440 - val_loss: 1.2506 - learning_rate: 0.0010\n",
      "Epoch 17/30\n",
      "\u001b[1m32/32\u001b[0m \u001b[32m━━━━━━━━━━━━━━━━━━━━\u001b[0m\u001b[37m\u001b[0m \u001b[1m3s\u001b[0m 105ms/step - accuracy: 0.3553 - loss: 1.2498 - val_accuracy: 0.3440 - val_loss: 1.2375 - learning_rate: 0.0010\n",
      "Epoch 18/30\n",
      "\u001b[1m32/32\u001b[0m \u001b[32m━━━━━━━━━━━━━━━━━━━━\u001b[0m\u001b[37m\u001b[0m \u001b[1m9s\u001b[0m 217ms/step - accuracy: 0.3502 - loss: 1.2348 - val_accuracy: 0.3440 - val_loss: 1.2165 - learning_rate: 0.0010\n",
      "Epoch 19/30\n",
      "\u001b[1m32/32\u001b[0m \u001b[32m━━━━━━━━━━━━━━━━━━━━\u001b[0m\u001b[37m\u001b[0m \u001b[1m6s\u001b[0m 84ms/step - accuracy: 0.3693 - loss: 1.2079 - val_accuracy: 0.3440 - val_loss: 1.1946 - learning_rate: 0.0010\n",
      "Epoch 20/30\n",
      "\u001b[1m32/32\u001b[0m \u001b[32m━━━━━━━━━━━━━━━━━━━━\u001b[0m\u001b[37m\u001b[0m \u001b[1m3s\u001b[0m 84ms/step - accuracy: 0.3424 - loss: 1.2075 - val_accuracy: 0.3440 - val_loss: 1.1768 - learning_rate: 0.0010\n",
      "Epoch 21/30\n",
      "\u001b[1m32/32\u001b[0m \u001b[32m━━━━━━━━━━━━━━━━━━━━\u001b[0m\u001b[37m\u001b[0m \u001b[1m3s\u001b[0m 83ms/step - accuracy: 0.3868 - loss: 1.1812 - val_accuracy: 0.3440 - val_loss: 1.1634 - learning_rate: 0.0010\n",
      "Epoch 22/30\n",
      "\u001b[1m32/32\u001b[0m \u001b[32m━━━━━━━━━━━━━━━━━━━━\u001b[0m\u001b[37m\u001b[0m \u001b[1m3s\u001b[0m 85ms/step - accuracy: 0.3782 - loss: 1.1686 - val_accuracy: 0.3440 - val_loss: 1.1547 - learning_rate: 0.0010\n",
      "Epoch 23/30\n",
      "\u001b[1m32/32\u001b[0m \u001b[32m━━━━━━━━━━━━━━━━━━━━\u001b[0m\u001b[37m\u001b[0m \u001b[1m3s\u001b[0m 82ms/step - accuracy: 0.3612 - loss: 1.1623 - val_accuracy: 0.3440 - val_loss: 1.1442 - learning_rate: 0.0010\n",
      "Epoch 24/30\n",
      "\u001b[1m32/32\u001b[0m \u001b[32m━━━━━━━━━━━━━━━━━━━━\u001b[0m\u001b[37m\u001b[0m \u001b[1m3s\u001b[0m 86ms/step - accuracy: 0.3737 - loss: 1.1547 - val_accuracy: 0.3440 - val_loss: 1.1382 - learning_rate: 0.0010\n",
      "Epoch 25/30\n",
      "\u001b[1m32/32\u001b[0m \u001b[32m━━━━━━━━━━━━━━━━━━━━\u001b[0m\u001b[37m\u001b[0m \u001b[1m3s\u001b[0m 84ms/step - accuracy: 0.3875 - loss: 1.1363 - val_accuracy: 0.3440 - val_loss: 1.1264 - learning_rate: 0.0010\n",
      "Epoch 26/30\n",
      "\u001b[1m32/32\u001b[0m \u001b[32m━━━━━━━━━━━━━━━━━━━━\u001b[0m\u001b[37m\u001b[0m \u001b[1m3s\u001b[0m 86ms/step - accuracy: 0.3843 - loss: 1.1326 - val_accuracy: 0.3440 - val_loss: 1.1102 - learning_rate: 0.0010\n",
      "Epoch 27/30\n",
      "\u001b[1m32/32\u001b[0m \u001b[32m━━━━━━━━━━━━━━━━━━━━\u001b[0m\u001b[37m\u001b[0m \u001b[1m3s\u001b[0m 85ms/step - accuracy: 0.4353 - loss: 1.1119 - val_accuracy: 0.3440 - val_loss: 1.0951 - learning_rate: 0.0010\n",
      "Epoch 28/30\n",
      "\u001b[1m32/32\u001b[0m \u001b[32m━━━━━━━━━━━━━━━━━━━━\u001b[0m\u001b[37m\u001b[0m \u001b[1m3s\u001b[0m 84ms/step - accuracy: 0.4179 - loss: 1.1197 - val_accuracy: 0.3820 - val_loss: 1.0827 - learning_rate: 0.0010\n",
      "Epoch 29/30\n",
      "\u001b[1m32/32\u001b[0m \u001b[32m━━━━━━━━━━━━━━━━━━━━\u001b[0m\u001b[37m\u001b[0m \u001b[1m3s\u001b[0m 84ms/step - accuracy: 0.4326 - loss: 1.1114 - val_accuracy: 0.6420 - val_loss: 1.0457 - learning_rate: 0.0010\n",
      "Epoch 30/30\n",
      "\u001b[1m32/32\u001b[0m \u001b[32m━━━━━━━━━━━━━━━━━━━━\u001b[0m\u001b[37m\u001b[0m \u001b[1m3s\u001b[0m 87ms/step - accuracy: 0.4620 - loss: 1.0836 - val_accuracy: 0.6420 - val_loss: 1.0184 - learning_rate: 0.0010\n",
      "\u001b[1m16/16\u001b[0m \u001b[32m━━━━━━━━━━━━━━━━━━━━\u001b[0m\u001b[37m\u001b[0m \u001b[1m0s\u001b[0m 12ms/step - accuracy: 0.6182 - loss: 1.0279\n",
      "Test Loss: 1.0184, Test Accuracy: 0.6420\n"
     ]
    }
   ],
   "source": [
    "embedding_dim = 100\n",
    "model = Sequential([\n",
    "    Embedding(max_words, embedding_dim, input_length=max_len),\n",
    "    SpatialDropout1D(0.3),\n",
    "    BatchNormalization(),\n",
    "    Conv1D(128, 5, activation='relu'),\n",
    "    BatchNormalization(),\n",
    "    Dropout(0.4),\n",
    "    Bidirectional(LSTM(128, dropout=0.3, recurrent_dropout=0.3, return_sequences=True)), #(batch_size=, time_steps=, units=)\n",
    "    BatchNormalization(),\n",
    "    GlobalAveragePooling1D(),\n",
    "    Dense(128, activation='relu', kernel_regularizer='l2'), \n",
    "    Dropout(0.4),\n",
    "    Dense(3, activation='softmax')  \n",
    "])\n",
    "\n",
    "model.compile(loss='categorical_crossentropy', optimizer='adam', metrics=['accuracy'])\n",
    "\n",
    "early_stop = EarlyStopping(monitor='val_loss', patience=5, restore_best_weights=True)\n",
    "reduce_lr = ReduceLROnPlateau(monitor='val_loss', patience=3, verbose=1, factor=0.5)\n",
    "\n",
    "history = model.fit(X_train, y_train,\n",
    "                    epochs=30,              \n",
    "                    batch_size=64,          \n",
    "                    validation_data=(X_test, y_test),\n",
    "                    callbacks=[early_stop, reduce_lr])\n",
    "\n",
    "loss, accuracy = model.evaluate(X_test, y_test)\n",
    "print(f\"Test Loss: {loss:.4f}, Test Accuracy: {accuracy:.4f}\")\n",
    "\n",
    "from_scratch_accuracy = accuracy  \n",
    "models_accuracy.append({\"model\": \"From Scratch\", \"accuracy\": from_scratch_accuracy})\n",
    "\n"
   ]
  },
  {
   "cell_type": "markdown",
   "metadata": {},
   "source": [
    "\n",
    "# 5.  Plot Accuracy and Loss"
   ]
  },
  {
   "cell_type": "code",
   "execution_count": 23,
   "metadata": {},
   "outputs": [
    {
     "data": {
      "image/png": "[encoded data removed]",
      "text/plain": [
       "<Figure size 800x500 with 1 Axes>"
      ]
     },
     "metadata": {},
     "output_type": "display_data"
    },
    {
     "data": {
      "image/png": "[encoded data removed]",
      "text/plain": [
       "<Figure size 800x500 with 1 Axes>"
      ]
     },
     "metadata": {},
     "output_type": "display_data"
    },
    {
     "data": {
      "text/html": [
       "<pre style=\"white-space:pre;overflow-x:auto;line-height:normal;font-family:Menlo,'DejaVu Sans Mono',consolas,'Courier New',monospace\"><span style=\"font-weight: bold\">Model: \"sequential\"</span>\n",
       "</pre>\n"
      ],
      "text/plain": [
       "\u001b[1mModel: \"sequential\"\u001b[0m\n"
      ]
     },
     "metadata": {},
     "output_type": "display_data"
    },
    {
     "data": {
      "text/html": [
       "<pre style=\"white-space:pre;overflow-x:auto;line-height:normal;font-family:Menlo,'DejaVu Sans Mono',consolas,'Courier New',monospace\">┏━━━━━━━━━━━━━━━━━━━━━━━━━━━━━━━━━┳━━━━━━━━━━━━━━━━━━━━━━━━┳━━━━━━━━━━━━━━━┓\n",
       "┃<span style=\"font-weight: bold\"> Layer (type)                    </span>┃<span style=\"font-weight: bold\"> Output Shape           </span>┃<span style=\"font-weight: bold\">       Param # </span>┃\n",
       "┡━━━━━━━━━━━━━━━━━━━━━━━━━━━━━━━━━╇━━━━━━━━━━━━━━━━━━━━━━━━╇━━━━━━━━━━━━━━━┩\n",
       "│ embedding (<span style=\"color: #0087ff; text-decoration-color: #0087ff\">Embedding</span>)           │ (<span style=\"color: #00d7ff; text-decoration-color: #00d7ff\">None</span>, <span style=\"color: #00af00; text-decoration-color: #00af00\">100</span>, <span style=\"color: #00af00; text-decoration-color: #00af00\">100</span>)       │     <span style=\"color: #00af00; text-decoration-color: #00af00\">1,000,000</span> │\n",
       "├─────────────────────────────────┼────────────────────────┼───────────────┤\n",
       "│ spatial_dropout1d               │ (<span style=\"color: #00d7ff; text-decoration-color: #00d7ff\">None</span>, <span style=\"color: #00af00; text-decoration-color: #00af00\">100</span>, <span style=\"color: #00af00; text-decoration-color: #00af00\">100</span>)       │             <span style=\"color: #00af00; text-decoration-color: #00af00\">0</span> │\n",
       "│ (<span style=\"color: #0087ff; text-decoration-color: #0087ff\">SpatialDropout1D</span>)              │                        │               │\n",
       "├─────────────────────────────────┼────────────────────────┼───────────────┤\n",
       "│ batch_normalization             │ (<span style=\"color: #00d7ff; text-decoration-color: #00d7ff\">None</span>, <span style=\"color: #00af00; text-decoration-color: #00af00\">100</span>, <span style=\"color: #00af00; text-decoration-color: #00af00\">100</span>)       │           <span style=\"color: #00af00; text-decoration-color: #00af00\">400</span> │\n",
       "│ (<span style=\"color: #0087ff; text-decoration-color: #0087ff\">BatchNormalization</span>)            │                        │               │\n",
       "├─────────────────────────────────┼────────────────────────┼───────────────┤\n",
       "│ conv1d (<span style=\"color: #0087ff; text-decoration-color: #0087ff\">Conv1D</span>)                 │ (<span style=\"color: #00d7ff; text-decoration-color: #00d7ff\">None</span>, <span style=\"color: #00af00; text-decoration-color: #00af00\">96</span>, <span style=\"color: #00af00; text-decoration-color: #00af00\">128</span>)        │        <span style=\"color: #00af00; text-decoration-color: #00af00\">64,128</span> │\n",
       "├─────────────────────────────────┼────────────────────────┼───────────────┤\n",
       "│ batch_normalization_1           │ (<span style=\"color: #00d7ff; text-decoration-color: #00d7ff\">None</span>, <span style=\"color: #00af00; text-decoration-color: #00af00\">96</span>, <span style=\"color: #00af00; text-decoration-color: #00af00\">128</span>)        │           <span style=\"color: #00af00; text-decoration-color: #00af00\">512</span> │\n",
       "│ (<span style=\"color: #0087ff; text-decoration-color: #0087ff\">BatchNormalization</span>)            │                        │               │\n",
       "├─────────────────────────────────┼────────────────────────┼───────────────┤\n",
       "│ dropout (<span style=\"color: #0087ff; text-decoration-color: #0087ff\">Dropout</span>)               │ (<span style=\"color: #00d7ff; text-decoration-color: #00d7ff\">None</span>, <span style=\"color: #00af00; text-decoration-color: #00af00\">96</span>, <span style=\"color: #00af00; text-decoration-color: #00af00\">128</span>)        │             <span style=\"color: #00af00; text-decoration-color: #00af00\">0</span> │\n",
       "├─────────────────────────────────┼────────────────────────┼───────────────┤\n",
       "│ bidirectional (<span style=\"color: #0087ff; text-decoration-color: #0087ff\">Bidirectional</span>)   │ (<span style=\"color: #00d7ff; text-decoration-color: #00d7ff\">None</span>, <span style=\"color: #00af00; text-decoration-color: #00af00\">96</span>, <span style=\"color: #00af00; text-decoration-color: #00af00\">256</span>)        │       <span style=\"color: #00af00; text-decoration-color: #00af00\">263,168</span> │\n",
       "├─────────────────────────────────┼────────────────────────┼───────────────┤\n",
       "│ batch_normalization_2           │ (<span style=\"color: #00d7ff; text-decoration-color: #00d7ff\">None</span>, <span style=\"color: #00af00; text-decoration-color: #00af00\">96</span>, <span style=\"color: #00af00; text-decoration-color: #00af00\">256</span>)        │         <span style=\"color: #00af00; text-decoration-color: #00af00\">1,024</span> │\n",
       "│ (<span style=\"color: #0087ff; text-decoration-color: #0087ff\">BatchNormalization</span>)            │                        │               │\n",
       "├─────────────────────────────────┼────────────────────────┼───────────────┤\n",
       "│ global_average_pooling1d        │ (<span style=\"color: #00d7ff; text-decoration-color: #00d7ff\">None</span>, <span style=\"color: #00af00; text-decoration-color: #00af00\">256</span>)            │             <span style=\"color: #00af00; text-decoration-color: #00af00\">0</span> │\n",
       "│ (<span style=\"color: #0087ff; text-decoration-color: #0087ff\">GlobalAveragePooling1D</span>)        │                        │               │\n",
       "├─────────────────────────────────┼────────────────────────┼───────────────┤\n",
       "│ dense (<span style=\"color: #0087ff; text-decoration-color: #0087ff\">Dense</span>)                   │ (<span style=\"color: #00d7ff; text-decoration-color: #00d7ff\">None</span>, <span style=\"color: #00af00; text-decoration-color: #00af00\">128</span>)            │        <span style=\"color: #00af00; text-decoration-color: #00af00\">32,896</span> │\n",
       "├─────────────────────────────────┼────────────────────────┼───────────────┤\n",
       "│ dropout_1 (<span style=\"color: #0087ff; text-decoration-color: #0087ff\">Dropout</span>)             │ (<span style=\"color: #00d7ff; text-decoration-color: #00d7ff\">None</span>, <span style=\"color: #00af00; text-decoration-color: #00af00\">128</span>)            │             <span style=\"color: #00af00; text-decoration-color: #00af00\">0</span> │\n",
       "├─────────────────────────────────┼────────────────────────┼───────────────┤\n",
       "│ dense_1 (<span style=\"color: #0087ff; text-decoration-color: #0087ff\">Dense</span>)                 │ (<span style=\"color: #00d7ff; text-decoration-color: #00d7ff\">None</span>, <span style=\"color: #00af00; text-decoration-color: #00af00\">3</span>)              │           <span style=\"color: #00af00; text-decoration-color: #00af00\">387</span> │\n",
       "└─────────────────────────────────┴────────────────────────┴───────────────┘\n",
       "</pre>\n"
      ],
      "text/plain": [
       "┏━━━━━━━━━━━━━━━━━━━━━━━━━━━━━━━━━┳━━━━━━━━━━━━━━━━━━━━━━━━┳━━━━━━━━━━━━━━━┓\n",
       "┃\u001b[1m \u001b[0m\u001b[1mLayer (type)                   \u001b[0m\u001b[1m \u001b[0m┃\u001b[1m \u001b[0m\u001b[1mOutput Shape          \u001b[0m\u001b[1m \u001b[0m┃\u001b[1m \u001b[0m\u001b[1m      Param #\u001b[0m\u001b[1m \u001b[0m┃\n",
       "┡━━━━━━━━━━━━━━━━━━━━━━━━━━━━━━━━━╇━━━━━━━━━━━━━━━━━━━━━━━━╇━━━━━━━━━━━━━━━┩\n",
       "│ embedding (\u001b[38;5;33mEmbedding\u001b[0m)           │ (\u001b[38;5;45mNone\u001b[0m, \u001b[38;5;34m100\u001b[0m, \u001b[38;5;34m100\u001b[0m)       │     \u001b[38;5;34m1,000,000\u001b[0m │\n",
       "├─────────────────────────────────┼────────────────────────┼───────────────┤\n",
       "│ spatial_dropout1d               │ (\u001b[38;5;45mNone\u001b[0m, \u001b[38;5;34m100\u001b[0m, \u001b[38;5;34m100\u001b[0m)       │             \u001b[38;5;34m0\u001b[0m │\n",
       "│ (\u001b[38;5;33mSpatialDropout1D\u001b[0m)              │                        │               │\n",
       "├─────────────────────────────────┼────────────────────────┼───────────────┤\n",
       "│ batch_normalization             │ (\u001b[38;5;45mNone\u001b[0m, \u001b[38;5;34m100\u001b[0m, \u001b[38;5;34m100\u001b[0m)       │           \u001b[38;5;34m400\u001b[0m │\n",
       "│ (\u001b[38;5;33mBatchNormalization\u001b[0m)            │                        │               │\n",
       "├─────────────────────────────────┼────────────────────────┼───────────────┤\n",
       "│ conv1d (\u001b[38;5;33mConv1D\u001b[0m)                 │ (\u001b[38;5;45mNone\u001b[0m, \u001b[38;5;34m96\u001b[0m, \u001b[38;5;34m128\u001b[0m)        │        \u001b[38;5;34m64,128\u001b[0m │\n",
       "├─────────────────────────────────┼────────────────────────┼───────────────┤\n",
       "│ batch_normalization_1           │ (\u001b[38;5;45mNone\u001b[0m, \u001b[38;5;34m96\u001b[0m, \u001b[38;5;34m128\u001b[0m)        │           \u001b[38;5;34m512\u001b[0m │\n",
       "│ (\u001b[38;5;33mBatchNormalization\u001b[0m)            │                        │               │\n",
       "├─────────────────────────────────┼────────────────────────┼───────────────┤\n",
       "│ dropout (\u001b[38;5;33mDropout\u001b[0m)               │ (\u001b[38;5;45mNone\u001b[0m, \u001b[38;5;34m96\u001b[0m, \u001b[38;5;34m128\u001b[0m)        │             \u001b[38;5;34m0\u001b[0m │\n",
       "├─────────────────────────────────┼────────────────────────┼───────────────┤\n",
       "│ bidirectional (\u001b[38;5;33mBidirectional\u001b[0m)   │ (\u001b[38;5;45mNone\u001b[0m, \u001b[38;5;34m96\u001b[0m, \u001b[38;5;34m256\u001b[0m)        │       \u001b[38;5;34m263,168\u001b[0m │\n",
       "├─────────────────────────────────┼────────────────────────┼───────────────┤\n",
       "│ batch_normalization_2           │ (\u001b[38;5;45mNone\u001b[0m, \u001b[38;5;34m96\u001b[0m, \u001b[38;5;34m256\u001b[0m)        │         \u001b[38;5;34m1,024\u001b[0m │\n",
       "│ (\u001b[38;5;33mBatchNormalization\u001b[0m)            │                        │               │\n",
       "├─────────────────────────────────┼────────────────────────┼───────────────┤\n",
       "│ global_average_pooling1d        │ (\u001b[38;5;45mNone\u001b[0m, \u001b[38;5;34m256\u001b[0m)            │             \u001b[38;5;34m0\u001b[0m │\n",
       "│ (\u001b[38;5;33mGlobalAveragePooling1D\u001b[0m)        │                        │               │\n",
       "├─────────────────────────────────┼────────────────────────┼───────────────┤\n",
       "│ dense (\u001b[38;5;33mDense\u001b[0m)                   │ (\u001b[38;5;45mNone\u001b[0m, \u001b[38;5;34m128\u001b[0m)            │        \u001b[38;5;34m32,896\u001b[0m │\n",
       "├─────────────────────────────────┼────────────────────────┼───────────────┤\n",
       "│ dropout_1 (\u001b[38;5;33mDropout\u001b[0m)             │ (\u001b[38;5;45mNone\u001b[0m, \u001b[38;5;34m128\u001b[0m)            │             \u001b[38;5;34m0\u001b[0m │\n",
       "├─────────────────────────────────┼────────────────────────┼───────────────┤\n",
       "│ dense_1 (\u001b[38;5;33mDense\u001b[0m)                 │ (\u001b[38;5;45mNone\u001b[0m, \u001b[38;5;34m3\u001b[0m)              │           \u001b[38;5;34m387\u001b[0m │\n",
       "└─────────────────────────────────┴────────────────────────┴───────────────┘\n"
      ]
     },
     "metadata": {},
     "output_type": "display_data"
    },
    {
     "data": {
      "text/html": [
       "<pre style=\"white-space:pre;overflow-x:auto;line-height:normal;font-family:Menlo,'DejaVu Sans Mono',consolas,'Courier New',monospace\"><span style=\"font-weight: bold\"> Total params: </span><span style=\"color: #00af00; text-decoration-color: #00af00\">4,085,611</span> (15.59 MB)\n",
       "</pre>\n"
      ],
      "text/plain": [
       "\u001b[1m Total params: \u001b[0m\u001b[38;5;34m4,085,611\u001b[0m (15.59 MB)\n"
      ]
     },
     "metadata": {},
     "output_type": "display_data"
    },
    {
     "data": {
      "text/html": [
       "<pre style=\"white-space:pre;overflow-x:auto;line-height:normal;font-family:Menlo,'DejaVu Sans Mono',consolas,'Courier New',monospace\"><span style=\"font-weight: bold\"> Trainable params: </span><span style=\"color: #00af00; text-decoration-color: #00af00\">1,361,547</span> (5.19 MB)\n",
       "</pre>\n"
      ],
      "text/plain": [
       "\u001b[1m Trainable params: \u001b[0m\u001b[38;5;34m1,361,547\u001b[0m (5.19 MB)\n"
      ]
     },
     "metadata": {},
     "output_type": "display_data"
    },
    {
     "data": {
      "text/html": [
       "<pre style=\"white-space:pre;overflow-x:auto;line-height:normal;font-family:Menlo,'DejaVu Sans Mono',consolas,'Courier New',monospace\"><span style=\"font-weight: bold\"> Non-trainable params: </span><span style=\"color: #00af00; text-decoration-color: #00af00\">968</span> (3.78 KB)\n",
       "</pre>\n"
      ],
      "text/plain": [
       "\u001b[1m Non-trainable params: \u001b[0m\u001b[38;5;34m968\u001b[0m (3.78 KB)\n"
      ]
     },
     "metadata": {},
     "output_type": "display_data"
    },
    {
     "data": {
      "text/html": [
       "<pre style=\"white-space:pre;overflow-x:auto;line-height:normal;font-family:Menlo,'DejaVu Sans Mono',consolas,'Courier New',monospace\"><span style=\"font-weight: bold\"> Optimizer params: </span><span style=\"color: #00af00; text-decoration-color: #00af00\">2,723,096</span> (10.39 MB)\n",
       "</pre>\n"
      ],
      "text/plain": [
       "\u001b[1m Optimizer params: \u001b[0m\u001b[38;5;34m2,723,096\u001b[0m (10.39 MB)\n"
      ]
     },
     "metadata": {},
     "output_type": "display_data"
    }
   ],
   "source": [
    "plt.figure(figsize=(8, 5))\n",
    "plt.plot(history.history['accuracy'], label='Train Accuracy')\n",
    "plt.plot(history.history['val_accuracy'], label='Validation Accuracy')\n",
    "plt.title('Model Accuracy')\n",
    "plt.xlabel('Epochs')\n",
    "plt.ylabel('Accuracy')\n",
    "plt.legend()\n",
    "plt.show()\n",
    "\n",
    "plt.figure(figsize=(8, 5))\n",
    "plt.plot(history.history['loss'], label='Train Loss')\n",
    "plt.plot(history.history['val_loss'], label='Validation Loss')\n",
    "plt.title('Model Loss')\n",
    "plt.xlabel('Epochs')\n",
    "plt.ylabel('Loss')\n",
    "plt.legend()\n",
    "plt.show()\n",
    "\n",
    "model.summary()\n"
   ]
  },
  {
   "cell_type": "markdown",
   "metadata": {},
   "source": [
    "# GloVe Embeddings\n",
    "## 1. Load GloVe Embeddings\n",
    "## 2. Model Building\n",
    "## 3. Compile the Model\n",
    "## 4. Training Callbacks\n",
    "## 5. Train the Model\n",
    "## 6. Evaluate the Model\n"
   ]
  },
  {
   "cell_type": "code",
   "execution_count": 24,
   "metadata": {},
   "outputs": [
    {
     "name": "stdout",
     "output_type": "stream",
     "text": [
      "Epoch 1/30\n",
      "\u001b[1m32/32\u001b[0m \u001b[32m━━━━━━━━━━━━━━━━━━━━\u001b[0m\u001b[37m\u001b[0m \u001b[1m12s\u001b[0m 257ms/step - accuracy: 0.4027 - loss: 2.8523 - val_accuracy: 0.5800 - val_loss: 2.4376 - learning_rate: 5.0000e-04\n",
      "Epoch 2/30\n",
      "\u001b[1m32/32\u001b[0m \u001b[32m━━━━━━━━━━━━━━━━━━━━\u001b[0m\u001b[37m\u001b[0m \u001b[1m13s\u001b[0m 421ms/step - accuracy: 0.5927 - loss: 2.2283 - val_accuracy: 0.6180 - val_loss: 2.1744 - learning_rate: 5.0000e-04\n",
      "Epoch 3/30\n",
      "\u001b[1m32/32\u001b[0m \u001b[32m━━━━━━━━━━━━━━━━━━━━\u001b[0m\u001b[37m\u001b[0m \u001b[1m16s\u001b[0m 509ms/step - accuracy: 0.5950 - loss: 1.9375 - val_accuracy: 0.5940 - val_loss: 1.9656 - learning_rate: 5.0000e-04\n",
      "Epoch 4/30\n",
      "\u001b[1m32/32\u001b[0m \u001b[32m━━━━━━━━━━━━━━━━━━━━\u001b[0m\u001b[37m\u001b[0m \u001b[1m11s\u001b[0m 328ms/step - accuracy: 0.6062 - loss: 1.6857 - val_accuracy: 0.6020 - val_loss: 1.7942 - learning_rate: 5.0000e-04\n",
      "Epoch 5/30\n",
      "\u001b[1m32/32\u001b[0m \u001b[32m━━━━━━━━━━━━━━━━━━━━\u001b[0m\u001b[37m\u001b[0m \u001b[1m18s\u001b[0m 550ms/step - accuracy: 0.6203 - loss: 1.5225 - val_accuracy: 0.6200 - val_loss: 1.6599 - learning_rate: 5.0000e-04\n",
      "Epoch 6/30\n",
      "\u001b[1m32/32\u001b[0m \u001b[32m━━━━━━━━━━━━━━━━━━━━\u001b[0m\u001b[37m\u001b[0m \u001b[1m9s\u001b[0m 273ms/step - accuracy: 0.6158 - loss: 1.4095 - val_accuracy: 0.6100 - val_loss: 1.5263 - learning_rate: 5.0000e-04\n",
      "Epoch 7/30\n",
      "\u001b[1m32/32\u001b[0m \u001b[32m━━━━━━━━━━━━━━━━━━━━\u001b[0m\u001b[37m\u001b[0m \u001b[1m9s\u001b[0m 268ms/step - accuracy: 0.6182 - loss: 1.3013 - val_accuracy: 0.6040 - val_loss: 1.3858 - learning_rate: 5.0000e-04\n",
      "Epoch 8/30\n",
      "\u001b[1m32/32\u001b[0m \u001b[32m━━━━━━━━━━━━━━━━━━━━\u001b[0m\u001b[37m\u001b[0m \u001b[1m8s\u001b[0m 243ms/step - accuracy: 0.6021 - loss: 1.2247 - val_accuracy: 0.6080 - val_loss: 1.2770 - learning_rate: 5.0000e-04\n",
      "Epoch 9/30\n",
      "\u001b[1m32/32\u001b[0m \u001b[32m━━━━━━━━━━━━━━━━━━━━\u001b[0m\u001b[37m\u001b[0m \u001b[1m8s\u001b[0m 245ms/step - accuracy: 0.6279 - loss: 1.1389 - val_accuracy: 0.5960 - val_loss: 1.1653 - learning_rate: 5.0000e-04\n",
      "Epoch 10/30\n",
      "\u001b[1m32/32\u001b[0m \u001b[32m━━━━━━━━━━━━━━━━━━━━\u001b[0m\u001b[37m\u001b[0m \u001b[1m10s\u001b[0m 323ms/step - accuracy: 0.5998 - loss: 1.1194 - val_accuracy: 0.6140 - val_loss: 1.0842 - learning_rate: 5.0000e-04\n",
      "Epoch 11/30\n",
      "\u001b[1m32/32\u001b[0m \u001b[32m━━━━━━━━━━━━━━━━━━━━\u001b[0m\u001b[37m\u001b[0m \u001b[1m16s\u001b[0m 508ms/step - accuracy: 0.6174 - loss: 1.0605 - val_accuracy: 0.5980 - val_loss: 1.0233 - learning_rate: 5.0000e-04\n",
      "Epoch 12/30\n",
      "\u001b[1m32/32\u001b[0m \u001b[32m━━━━━━━━━━━━━━━━━━━━\u001b[0m\u001b[37m\u001b[0m \u001b[1m17s\u001b[0m 541ms/step - accuracy: 0.6316 - loss: 1.0002 - val_accuracy: 0.6360 - val_loss: 0.9741 - learning_rate: 5.0000e-04\n",
      "Epoch 13/30\n",
      "\u001b[1m32/32\u001b[0m \u001b[32m━━━━━━━━━━━━━━━━━━━━\u001b[0m\u001b[37m\u001b[0m \u001b[1m17s\u001b[0m 526ms/step - accuracy: 0.6184 - loss: 0.9730 - val_accuracy: 0.6000 - val_loss: 0.9554 - learning_rate: 5.0000e-04\n",
      "Epoch 14/30\n",
      "\u001b[1m32/32\u001b[0m \u001b[32m━━━━━━━━━━━━━━━━━━━━\u001b[0m\u001b[37m\u001b[0m \u001b[1m18s\u001b[0m 548ms/step - accuracy: 0.6256 - loss: 0.9624 - val_accuracy: 0.5900 - val_loss: 0.9077 - learning_rate: 5.0000e-04\n",
      "Epoch 15/30\n",
      "\u001b[1m32/32\u001b[0m \u001b[32m━━━━━━━━━━━━━━━━━━━━\u001b[0m\u001b[37m\u001b[0m \u001b[1m12s\u001b[0m 381ms/step - accuracy: 0.6143 - loss: 0.9252 - val_accuracy: 0.5980 - val_loss: 0.8874 - learning_rate: 5.0000e-04\n",
      "Epoch 16/30\n",
      "\u001b[1m32/32\u001b[0m \u001b[32m━━━━━━━━━━━━━━━━━━━━\u001b[0m\u001b[37m\u001b[0m \u001b[1m12s\u001b[0m 380ms/step - accuracy: 0.6219 - loss: 0.8995 - val_accuracy: 0.5980 - val_loss: 0.8629 - learning_rate: 5.0000e-04\n",
      "Epoch 17/30\n",
      "\u001b[1m32/32\u001b[0m \u001b[32m━━━━━━━━━━━━━━━━━━━━\u001b[0m\u001b[37m\u001b[0m \u001b[1m10s\u001b[0m 311ms/step - accuracy: 0.6236 - loss: 0.8557 - val_accuracy: 0.5980 - val_loss: 0.8428 - learning_rate: 5.0000e-04\n",
      "Epoch 18/30\n",
      "\u001b[1m32/32\u001b[0m \u001b[32m━━━━━━━━━━━━━━━━━━━━\u001b[0m\u001b[37m\u001b[0m \u001b[1m9s\u001b[0m 284ms/step - accuracy: 0.6336 - loss: 0.8313 - val_accuracy: 0.5980 - val_loss: 0.8182 - learning_rate: 5.0000e-04\n",
      "Epoch 19/30\n",
      "\u001b[1m32/32\u001b[0m \u001b[32m━━━━━━━━━━━━━━━━━━━━\u001b[0m\u001b[37m\u001b[0m \u001b[1m9s\u001b[0m 276ms/step - accuracy: 0.6288 - loss: 0.8246 - val_accuracy: 0.6140 - val_loss: 0.8008 - learning_rate: 5.0000e-04\n",
      "Epoch 20/30\n",
      "\u001b[1m32/32\u001b[0m \u001b[32m━━━━━━━━━━━━━━━━━━━━\u001b[0m\u001b[37m\u001b[0m \u001b[1m8s\u001b[0m 260ms/step - accuracy: 0.6214 - loss: 0.8092 - val_accuracy: 0.5980 - val_loss: 0.7857 - learning_rate: 5.0000e-04\n",
      "Epoch 21/30\n",
      "\u001b[1m32/32\u001b[0m \u001b[32m━━━━━━━━━━━━━━━━━━━━\u001b[0m\u001b[37m\u001b[0m \u001b[1m10s\u001b[0m 322ms/step - accuracy: 0.6289 - loss: 0.8015 - val_accuracy: 0.5980 - val_loss: 0.7716 - learning_rate: 5.0000e-04\n",
      "Epoch 22/30\n",
      "\u001b[1m32/32\u001b[0m \u001b[32m━━━━━━━━━━━━━━━━━━━━\u001b[0m\u001b[37m\u001b[0m \u001b[1m14s\u001b[0m 421ms/step - accuracy: 0.6358 - loss: 0.7662 - val_accuracy: 0.5980 - val_loss: 0.7607 - learning_rate: 5.0000e-04\n",
      "Epoch 23/30\n",
      "\u001b[1m32/32\u001b[0m \u001b[32m━━━━━━━━━━━━━━━━━━━━\u001b[0m\u001b[37m\u001b[0m \u001b[1m8s\u001b[0m 248ms/step - accuracy: 0.6327 - loss: 0.7946 - val_accuracy: 0.6140 - val_loss: 0.7478 - learning_rate: 5.0000e-04\n",
      "Epoch 24/30\n",
      "\u001b[1m32/32\u001b[0m \u001b[32m━━━━━━━━━━━━━━━━━━━━\u001b[0m\u001b[37m\u001b[0m \u001b[1m8s\u001b[0m 250ms/step - accuracy: 0.6071 - loss: 0.7606 - val_accuracy: 0.6140 - val_loss: 0.7367 - learning_rate: 5.0000e-04\n",
      "Epoch 25/30\n",
      "\u001b[1m32/32\u001b[0m \u001b[32m━━━━━━━━━━━━━━━━━━━━\u001b[0m\u001b[37m\u001b[0m \u001b[1m8s\u001b[0m 253ms/step - accuracy: 0.6314 - loss: 0.7456 - val_accuracy: 0.6060 - val_loss: 0.7294 - learning_rate: 5.0000e-04\n",
      "Epoch 26/30\n",
      "\u001b[1m32/32\u001b[0m \u001b[32m━━━━━━━━━━━━━━━━━━━━\u001b[0m\u001b[37m\u001b[0m \u001b[1m8s\u001b[0m 251ms/step - accuracy: 0.6442 - loss: 0.7353 - val_accuracy: 0.6060 - val_loss: 0.7201 - learning_rate: 5.0000e-04\n",
      "Epoch 27/30\n",
      "\u001b[1m32/32\u001b[0m \u001b[32m━━━━━━━━━━━━━━━━━━━━\u001b[0m\u001b[37m\u001b[0m \u001b[1m8s\u001b[0m 256ms/step - accuracy: 0.6260 - loss: 0.7263 - val_accuracy: 0.6060 - val_loss: 0.7138 - learning_rate: 5.0000e-04\n",
      "Epoch 28/30\n",
      "\u001b[1m32/32\u001b[0m \u001b[32m━━━━━━━━━━━━━━━━━━━━\u001b[0m\u001b[37m\u001b[0m \u001b[1m8s\u001b[0m 253ms/step - accuracy: 0.6222 - loss: 0.7296 - val_accuracy: 0.5980 - val_loss: 0.7080 - learning_rate: 5.0000e-04\n",
      "Epoch 29/30\n",
      "\u001b[1m32/32\u001b[0m \u001b[32m━━━━━━━━━━━━━━━━━━━━\u001b[0m\u001b[37m\u001b[0m \u001b[1m8s\u001b[0m 261ms/step - accuracy: 0.6420 - loss: 0.6925 - val_accuracy: 0.5980 - val_loss: 0.7030 - learning_rate: 5.0000e-04\n",
      "Epoch 30/30\n",
      "\u001b[1m32/32\u001b[0m \u001b[32m━━━━━━━━━━━━━━━━━━━━\u001b[0m\u001b[37m\u001b[0m \u001b[1m8s\u001b[0m 256ms/step - accuracy: 0.6409 - loss: 0.7024 - val_accuracy: 0.6140 - val_loss: 0.6975 - learning_rate: 5.0000e-04\n",
      "\u001b[1m16/16\u001b[0m \u001b[32m━━━━━━━━━━━━━━━━━━━━\u001b[0m\u001b[37m\u001b[0m \u001b[1m1s\u001b[0m 43ms/step - accuracy: 0.6006 - loss: 0.7436\n",
      "Test Loss: 0.6975, Test Accuracy: 0.6140\n"
     ]
    }
   ],
   "source": [
    "#===================================================================================\n",
    "\n",
    "#  Load GloVe Embeddings\n",
    "#===========================\n",
    "\n",
    "def load_glove_embeddings(filepath, tokenizer, max_words, embedding_dim=100):\n",
    "    embeddings_index = {}\n",
    "    with open(filepath, encoding='utf-8') as f:\n",
    "        for line in f:\n",
    "            values = line.split()\n",
    "            word = values[0]\n",
    "            coefs = np.asarray(values[1:], dtype='float32')\n",
    "            embeddings_index[word] = coefs\n",
    "\n",
    "    embedding_matrix = np.zeros((max_words, embedding_dim))\n",
    "    for word, i in tokenizer.word_index.items():\n",
    "        if i < max_words:\n",
    "            embedding_vector = embeddings_index.get(word)\n",
    "            if embedding_vector is not None:\n",
    "                embedding_matrix[i] = embedding_vector\n",
    "    return embedding_matrix\n",
    "\n",
    "embedding_dim = 100\n",
    "embedding_matrix = load_glove_embeddings('glove.6B.100d.txt', tokenizer, max_words, embedding_dim)\n",
    "#===================================================================================\n",
    "\n",
    "#  Model Building\n",
    "#=====================\n",
    "\n",
    "model = Sequential([\n",
    "    Embedding(max_words, embedding_dim, input_length=max_len, weights=[embedding_matrix], trainable=True),\n",
    "    SpatialDropout1D(0.4),\n",
    "    Bidirectional(LSTM(256, return_sequences=True)),\n",
    "    Bidirectional(LSTM(128)),\n",
    "    BatchNormalization(),\n",
    "    Dense(128, activation='relu', kernel_regularizer='l2'),\n",
    "    Dropout(0.5),\n",
    "    Dense(3, activation='softmax')\n",
    "])\n",
    "#===================================================================================\n",
    "\n",
    "#  Compile the Model\n",
    "#=======================\n",
    "\n",
    "optimizer = Adam(learning_rate=0.0005)\n",
    "model.compile(loss='categorical_crossentropy', optimizer=optimizer, metrics=['accuracy'])\n",
    "#===================================================================================\n",
    "\n",
    "#  Training Callbacks\n",
    "#========================\n",
    "\n",
    "early_stop = EarlyStopping(monitor='val_loss', patience=5, restore_best_weights=True)\n",
    "reduce_lr = ReduceLROnPlateau(monitor='val_loss', patience=3, factor=0.5, verbose=1)\n",
    "#===================================================================================\n",
    "\n",
    "#  Train the Model\n",
    "#=====================\n",
    "history = model.fit(X_train, y_train,\n",
    "                    epochs=30,\n",
    "                    batch_size=64,\n",
    "                    validation_data=(X_test, y_test),\n",
    "                    callbacks=[early_stop, reduce_lr])\n",
    "#===================================================================================\n",
    "\n",
    "#  Evaluate the Model\n",
    "#========================\n",
    "loss, accuracy = model.evaluate(X_test, y_test)\n",
    "print(f\"Test Loss: {loss:.4f}, Test Accuracy: {accuracy:.4f}\")\n",
    "\n",
    "glove_accuracy = accuracy  \n",
    "models_accuracy.append({\"model\": \"GloVe Embeddings\", \"accuracy\": glove_accuracy})\n"
   ]
  },
  {
   "cell_type": "markdown",
   "metadata": {},
   "source": [
    "# 7. Plot Accuracy and Loss"
   ]
  },
  {
   "cell_type": "code",
   "execution_count": 25,
   "metadata": {},
   "outputs": [
    {
     "data": {
      "image/png": "[encoded data removed]",
      "text/plain": [
       "<Figure size 800x500 with 1 Axes>"
      ]
     },
     "metadata": {},
     "output_type": "display_data"
    },
    {
     "data": {
      "image/png": "[encoded data removed]",
      "text/plain": [
       "<Figure size 800x500 with 1 Axes>"
      ]
     },
     "metadata": {},
     "output_type": "display_data"
    },
    {
     "data": {
      "text/html": [
       "<pre style=\"white-space:pre;overflow-x:auto;line-height:normal;font-family:Menlo,'DejaVu Sans Mono',consolas,'Courier New',monospace\"><span style=\"font-weight: bold\">Model: \"sequential_1\"</span>\n",
       "</pre>\n"
      ],
      "text/plain": [
       "\u001b[1mModel: \"sequential_1\"\u001b[0m\n"
      ]
     },
     "metadata": {},
     "output_type": "display_data"
    },
    {
     "data": {
      "text/html": [
       "<pre style=\"white-space:pre;overflow-x:auto;line-height:normal;font-family:Menlo,'DejaVu Sans Mono',consolas,'Courier New',monospace\">┏━━━━━━━━━━━━━━━━━━━━━━━━━━━━━━━━━┳━━━━━━━━━━━━━━━━━━━━━━━━┳━━━━━━━━━━━━━━━┓\n",
       "┃<span style=\"font-weight: bold\"> Layer (type)                    </span>┃<span style=\"font-weight: bold\"> Output Shape           </span>┃<span style=\"font-weight: bold\">       Param # </span>┃\n",
       "┡━━━━━━━━━━━━━━━━━━━━━━━━━━━━━━━━━╇━━━━━━━━━━━━━━━━━━━━━━━━╇━━━━━━━━━━━━━━━┩\n",
       "│ embedding_1 (<span style=\"color: #0087ff; text-decoration-color: #0087ff\">Embedding</span>)         │ (<span style=\"color: #00d7ff; text-decoration-color: #00d7ff\">None</span>, <span style=\"color: #00af00; text-decoration-color: #00af00\">100</span>, <span style=\"color: #00af00; text-decoration-color: #00af00\">100</span>)       │     <span style=\"color: #00af00; text-decoration-color: #00af00\">1,000,000</span> │\n",
       "├─────────────────────────────────┼────────────────────────┼───────────────┤\n",
       "│ spatial_dropout1d_1             │ (<span style=\"color: #00d7ff; text-decoration-color: #00d7ff\">None</span>, <span style=\"color: #00af00; text-decoration-color: #00af00\">100</span>, <span style=\"color: #00af00; text-decoration-color: #00af00\">100</span>)       │             <span style=\"color: #00af00; text-decoration-color: #00af00\">0</span> │\n",
       "│ (<span style=\"color: #0087ff; text-decoration-color: #0087ff\">SpatialDropout1D</span>)              │                        │               │\n",
       "├─────────────────────────────────┼────────────────────────┼───────────────┤\n",
       "│ bidirectional_1 (<span style=\"color: #0087ff; text-decoration-color: #0087ff\">Bidirectional</span>) │ (<span style=\"color: #00d7ff; text-decoration-color: #00d7ff\">None</span>, <span style=\"color: #00af00; text-decoration-color: #00af00\">100</span>, <span style=\"color: #00af00; text-decoration-color: #00af00\">512</span>)       │       <span style=\"color: #00af00; text-decoration-color: #00af00\">731,136</span> │\n",
       "├─────────────────────────────────┼────────────────────────┼───────────────┤\n",
       "│ bidirectional_2 (<span style=\"color: #0087ff; text-decoration-color: #0087ff\">Bidirectional</span>) │ (<span style=\"color: #00d7ff; text-decoration-color: #00d7ff\">None</span>, <span style=\"color: #00af00; text-decoration-color: #00af00\">256</span>)            │       <span style=\"color: #00af00; text-decoration-color: #00af00\">656,384</span> │\n",
       "├─────────────────────────────────┼────────────────────────┼───────────────┤\n",
       "│ batch_normalization_3           │ (<span style=\"color: #00d7ff; text-decoration-color: #00d7ff\">None</span>, <span style=\"color: #00af00; text-decoration-color: #00af00\">256</span>)            │         <span style=\"color: #00af00; text-decoration-color: #00af00\">1,024</span> │\n",
       "│ (<span style=\"color: #0087ff; text-decoration-color: #0087ff\">BatchNormalization</span>)            │                        │               │\n",
       "├─────────────────────────────────┼────────────────────────┼───────────────┤\n",
       "│ dense_2 (<span style=\"color: #0087ff; text-decoration-color: #0087ff\">Dense</span>)                 │ (<span style=\"color: #00d7ff; text-decoration-color: #00d7ff\">None</span>, <span style=\"color: #00af00; text-decoration-color: #00af00\">128</span>)            │        <span style=\"color: #00af00; text-decoration-color: #00af00\">32,896</span> │\n",
       "├─────────────────────────────────┼────────────────────────┼───────────────┤\n",
       "│ dropout_2 (<span style=\"color: #0087ff; text-decoration-color: #0087ff\">Dropout</span>)             │ (<span style=\"color: #00d7ff; text-decoration-color: #00d7ff\">None</span>, <span style=\"color: #00af00; text-decoration-color: #00af00\">128</span>)            │             <span style=\"color: #00af00; text-decoration-color: #00af00\">0</span> │\n",
       "├─────────────────────────────────┼────────────────────────┼───────────────┤\n",
       "│ dense_3 (<span style=\"color: #0087ff; text-decoration-color: #0087ff\">Dense</span>)                 │ (<span style=\"color: #00d7ff; text-decoration-color: #00d7ff\">None</span>, <span style=\"color: #00af00; text-decoration-color: #00af00\">3</span>)              │           <span style=\"color: #00af00; text-decoration-color: #00af00\">387</span> │\n",
       "└─────────────────────────────────┴────────────────────────┴───────────────┘\n",
       "</pre>\n"
      ],
      "text/plain": [
       "┏━━━━━━━━━━━━━━━━━━━━━━━━━━━━━━━━━┳━━━━━━━━━━━━━━━━━━━━━━━━┳━━━━━━━━━━━━━━━┓\n",
       "┃\u001b[1m \u001b[0m\u001b[1mLayer (type)                   \u001b[0m\u001b[1m \u001b[0m┃\u001b[1m \u001b[0m\u001b[1mOutput Shape          \u001b[0m\u001b[1m \u001b[0m┃\u001b[1m \u001b[0m\u001b[1m      Param #\u001b[0m\u001b[1m \u001b[0m┃\n",
       "┡━━━━━━━━━━━━━━━━━━━━━━━━━━━━━━━━━╇━━━━━━━━━━━━━━━━━━━━━━━━╇━━━━━━━━━━━━━━━┩\n",
       "│ embedding_1 (\u001b[38;5;33mEmbedding\u001b[0m)         │ (\u001b[38;5;45mNone\u001b[0m, \u001b[38;5;34m100\u001b[0m, \u001b[38;5;34m100\u001b[0m)       │     \u001b[38;5;34m1,000,000\u001b[0m │\n",
       "├─────────────────────────────────┼────────────────────────┼───────────────┤\n",
       "│ spatial_dropout1d_1             │ (\u001b[38;5;45mNone\u001b[0m, \u001b[38;5;34m100\u001b[0m, \u001b[38;5;34m100\u001b[0m)       │             \u001b[38;5;34m0\u001b[0m │\n",
       "│ (\u001b[38;5;33mSpatialDropout1D\u001b[0m)              │                        │               │\n",
       "├─────────────────────────────────┼────────────────────────┼───────────────┤\n",
       "│ bidirectional_1 (\u001b[38;5;33mBidirectional\u001b[0m) │ (\u001b[38;5;45mNone\u001b[0m, \u001b[38;5;34m100\u001b[0m, \u001b[38;5;34m512\u001b[0m)       │       \u001b[38;5;34m731,136\u001b[0m │\n",
       "├─────────────────────────────────┼────────────────────────┼───────────────┤\n",
       "│ bidirectional_2 (\u001b[38;5;33mBidirectional\u001b[0m) │ (\u001b[38;5;45mNone\u001b[0m, \u001b[38;5;34m256\u001b[0m)            │       \u001b[38;5;34m656,384\u001b[0m │\n",
       "├─────────────────────────────────┼────────────────────────┼───────────────┤\n",
       "│ batch_normalization_3           │ (\u001b[38;5;45mNone\u001b[0m, \u001b[38;5;34m256\u001b[0m)            │         \u001b[38;5;34m1,024\u001b[0m │\n",
       "│ (\u001b[38;5;33mBatchNormalization\u001b[0m)            │                        │               │\n",
       "├─────────────────────────────────┼────────────────────────┼───────────────┤\n",
       "│ dense_2 (\u001b[38;5;33mDense\u001b[0m)                 │ (\u001b[38;5;45mNone\u001b[0m, \u001b[38;5;34m128\u001b[0m)            │        \u001b[38;5;34m32,896\u001b[0m │\n",
       "├─────────────────────────────────┼────────────────────────┼───────────────┤\n",
       "│ dropout_2 (\u001b[38;5;33mDropout\u001b[0m)             │ (\u001b[38;5;45mNone\u001b[0m, \u001b[38;5;34m128\u001b[0m)            │             \u001b[38;5;34m0\u001b[0m │\n",
       "├─────────────────────────────────┼────────────────────────┼───────────────┤\n",
       "│ dense_3 (\u001b[38;5;33mDense\u001b[0m)                 │ (\u001b[38;5;45mNone\u001b[0m, \u001b[38;5;34m3\u001b[0m)              │           \u001b[38;5;34m387\u001b[0m │\n",
       "└─────────────────────────────────┴────────────────────────┴───────────────┘\n"
      ]
     },
     "metadata": {},
     "output_type": "display_data"
    },
    {
     "data": {
      "text/html": [
       "<pre style=\"white-space:pre;overflow-x:auto;line-height:normal;font-family:Menlo,'DejaVu Sans Mono',consolas,'Courier New',monospace\"><span style=\"font-weight: bold\"> Total params: </span><span style=\"color: #00af00; text-decoration-color: #00af00\">7,264,459</span> (27.71 MB)\n",
       "</pre>\n"
      ],
      "text/plain": [
       "\u001b[1m Total params: \u001b[0m\u001b[38;5;34m7,264,459\u001b[0m (27.71 MB)\n"
      ]
     },
     "metadata": {},
     "output_type": "display_data"
    },
    {
     "data": {
      "text/html": [
       "<pre style=\"white-space:pre;overflow-x:auto;line-height:normal;font-family:Menlo,'DejaVu Sans Mono',consolas,'Courier New',monospace\"><span style=\"font-weight: bold\"> Trainable params: </span><span style=\"color: #00af00; text-decoration-color: #00af00\">2,421,315</span> (9.24 MB)\n",
       "</pre>\n"
      ],
      "text/plain": [
       "\u001b[1m Trainable params: \u001b[0m\u001b[38;5;34m2,421,315\u001b[0m (9.24 MB)\n"
      ]
     },
     "metadata": {},
     "output_type": "display_data"
    },
    {
     "data": {
      "text/html": [
       "<pre style=\"white-space:pre;overflow-x:auto;line-height:normal;font-family:Menlo,'DejaVu Sans Mono',consolas,'Courier New',monospace\"><span style=\"font-weight: bold\"> Non-trainable params: </span><span style=\"color: #00af00; text-decoration-color: #00af00\">512</span> (2.00 KB)\n",
       "</pre>\n"
      ],
      "text/plain": [
       "\u001b[1m Non-trainable params: \u001b[0m\u001b[38;5;34m512\u001b[0m (2.00 KB)\n"
      ]
     },
     "metadata": {},
     "output_type": "display_data"
    },
    {
     "data": {
      "text/html": [
       "<pre style=\"white-space:pre;overflow-x:auto;line-height:normal;font-family:Menlo,'DejaVu Sans Mono',consolas,'Courier New',monospace\"><span style=\"font-weight: bold\"> Optimizer params: </span><span style=\"color: #00af00; text-decoration-color: #00af00\">4,842,632</span> (18.47 MB)\n",
       "</pre>\n"
      ],
      "text/plain": [
       "\u001b[1m Optimizer params: \u001b[0m\u001b[38;5;34m4,842,632\u001b[0m (18.47 MB)\n"
      ]
     },
     "metadata": {},
     "output_type": "display_data"
    }
   ],
   "source": [
    "plt.figure(figsize=(8, 5))\n",
    "plt.plot(history.history['accuracy'], label='Train Accuracy')\n",
    "plt.plot(history.history['val_accuracy'], label='Validation Accuracy')\n",
    "plt.title('Model Accuracy')\n",
    "plt.xlabel('Epochs')\n",
    "plt.ylabel('Accuracy')\n",
    "plt.legend()\n",
    "plt.show()\n",
    "\n",
    "plt.figure(figsize=(8, 5))\n",
    "plt.plot(history.history['loss'], label='Train Loss')\n",
    "plt.plot(history.history['val_loss'], label='Validation Loss')\n",
    "plt.title('Model Loss')\n",
    "plt.xlabel('Epochs')\n",
    "plt.ylabel('Loss')\n",
    "plt.legend()\n",
    "plt.show()\n",
    "model.summary()"
   ]
  },
  {
   "cell_type": "markdown",
   "metadata": {},
   "source": [
    "# Logistic Regression Model"
   ]
  },
  {
   "cell_type": "code",
   "execution_count": 26,
   "metadata": {},
   "outputs": [
    {
     "name": "stdout",
     "output_type": "stream",
     "text": [
      "Test Accuracy: 0.5980\n",
      "Classification Report:\n",
      "              precision    recall  f1-score   support\n",
      "\n",
      "    Negative       0.50      0.73      0.60       172\n",
      "     Neutral       0.78      0.51      0.62       162\n",
      "    Positive       0.63      0.54      0.58       166\n",
      "\n",
      "    accuracy                           0.60       500\n",
      "   macro avg       0.64      0.60      0.60       500\n",
      "weighted avg       0.64      0.60      0.60       500\n",
      "\n"
     ]
    }
   ],
   "source": [
    "label_encoder = LabelEncoder()\n",
    "data['encoded_sentiment'] = label_encoder.fit_transform(data['sentiment'])\n",
    "\n",
    "\n",
    "X_train, X_test, y_train, y_test = train_test_split(\n",
    "    data['customer_feedback_cleaned'], data['encoded_sentiment'], test_size=0.2, random_state=42\n",
    ")\n",
    "\n",
    "\n",
    "vectorizer = TfidfVectorizer(max_features=5000, ngram_range=(1, 2)) \n",
    "X_train_tfidf = vectorizer.fit_transform(X_train)\n",
    "X_test_tfidf = vectorizer.transform(X_test)\n",
    "\n",
    "\n",
    "model = LogisticRegression(max_iter=1000, solver='liblinear') \n",
    "model.fit(X_train_tfidf, y_train)\n",
    "\n",
    "y_pred = model.predict(X_test_tfidf)\n",
    "\n",
    "accuracy = accuracy_score(y_test, y_pred)\n",
    "print(f\"Test Accuracy: {accuracy:.4f}\")\n",
    "\n",
    "print(\"Classification Report:\")\n",
    "print(classification_report(y_test, y_pred, target_names=label_encoder.classes_))\n",
    "\n",
    "logistic_regression_accuracy = accuracy_score(y_test, y_pred) \n",
    "models_accuracy.append({\"model\": \"Logistic Regression\", \"accuracy\": logistic_regression_accuracy})\n",
    "\n"
   ]
  },
  {
   "cell_type": "markdown",
   "metadata": {},
   "source": [
    "# Pre-trained DistilBERT Model"
   ]
  },
  {
   "cell_type": "code",
   "execution_count": 27,
   "metadata": {},
   "outputs": [
    {
     "name": "stderr",
     "output_type": "stream",
     "text": [
      "Some weights of DistilBertForSequenceClassification were not initialized from the model checkpoint at distilbert-base-uncased and are newly initialized: ['classifier.bias', 'classifier.weight', 'pre_classifier.bias', 'pre_classifier.weight']\n",
      "You should probably TRAIN this model on a down-stream task to be able to use it for predictions and inference.\n",
      "C:\\Users\\dell\\AppData\\Roaming\\Python\\Python312\\site-packages\\transformers\\training_args.py:1575: FutureWarning: `evaluation_strategy` is deprecated and will be removed in version 4.46 of 🤗 Transformers. Use `eval_strategy` instead\n",
      "  warnings.warn(\n",
      "  1%|▏         | 10/750 [00:03<04:18,  2.86it/s]"
     ]
    },
    {
     "name": "stdout",
     "output_type": "stream",
     "text": [
      "{'loss': 1.092, 'grad_norm': 2.927361011505127, 'learning_rate': 4.933333333333334e-05, 'epoch': 0.04}\n"
     ]
    },
    {
     "name": "stderr",
     "output_type": "stream",
     "text": [
      "  3%|▎         | 20/750 [00:07<04:20,  2.81it/s]"
     ]
    },
    {
     "name": "stdout",
     "output_type": "stream",
     "text": [
      "{'loss': 1.0283, 'grad_norm': 1.513842225074768, 'learning_rate': 4.866666666666667e-05, 'epoch': 0.08}\n"
     ]
    },
    {
     "name": "stderr",
     "output_type": "stream",
     "text": [
      "  4%|▍         | 30/750 [00:10<03:48,  3.15it/s]"
     ]
    },
    {
     "name": "stdout",
     "output_type": "stream",
     "text": [
      "{'loss': 0.9607, 'grad_norm': 2.2217464447021484, 'learning_rate': 4.8e-05, 'epoch': 0.12}\n"
     ]
    },
    {
     "name": "stderr",
     "output_type": "stream",
     "text": [
      "  5%|▌         | 40/750 [00:13<03:51,  3.07it/s]"
     ]
    },
    {
     "name": "stdout",
     "output_type": "stream",
     "text": [
      "{'loss': 0.9863, 'grad_norm': 2.3832545280456543, 'learning_rate': 4.7333333333333336e-05, 'epoch': 0.16}\n"
     ]
    },
    {
     "name": "stderr",
     "output_type": "stream",
     "text": [
      "  7%|▋         | 50/750 [00:17<04:03,  2.88it/s]"
     ]
    },
    {
     "name": "stdout",
     "output_type": "stream",
     "text": [
      "{'loss': 0.9569, 'grad_norm': 3.0609006881713867, 'learning_rate': 4.666666666666667e-05, 'epoch': 0.2}\n"
     ]
    },
    {
     "name": "stderr",
     "output_type": "stream",
     "text": [
      "  8%|▊         | 60/750 [00:20<03:56,  2.92it/s]"
     ]
    },
    {
     "name": "stdout",
     "output_type": "stream",
     "text": [
      "{'loss': 0.8422, 'grad_norm': 3.191749095916748, 'learning_rate': 4.600000000000001e-05, 'epoch': 0.24}\n"
     ]
    },
    {
     "name": "stderr",
     "output_type": "stream",
     "text": [
      "  9%|▉         | 70/750 [00:24<04:08,  2.74it/s]"
     ]
    },
    {
     "name": "stdout",
     "output_type": "stream",
     "text": [
      "{'loss': 0.8515, 'grad_norm': 2.8436741828918457, 'learning_rate': 4.5333333333333335e-05, 'epoch': 0.28}\n"
     ]
    },
    {
     "name": "stderr",
     "output_type": "stream",
     "text": [
      " 11%|█         | 80/750 [00:27<04:02,  2.76it/s]"
     ]
    },
    {
     "name": "stdout",
     "output_type": "stream",
     "text": [
      "{'loss': 0.7674, 'grad_norm': 4.327706813812256, 'learning_rate': 4.466666666666667e-05, 'epoch': 0.32}\n"
     ]
    },
    {
     "name": "stderr",
     "output_type": "stream",
     "text": [
      " 12%|█▏        | 90/750 [00:31<03:29,  3.14it/s]"
     ]
    },
    {
     "name": "stdout",
     "output_type": "stream",
     "text": [
      "{'loss': 0.7222, 'grad_norm': 4.619027137756348, 'learning_rate': 4.4000000000000006e-05, 'epoch': 0.36}\n"
     ]
    },
    {
     "name": "stderr",
     "output_type": "stream",
     "text": [
      " 13%|█▎        | 100/750 [00:35<04:38,  2.33it/s]"
     ]
    },
    {
     "name": "stdout",
     "output_type": "stream",
     "text": [
      "{'loss': 0.7313, 'grad_norm': 3.892507791519165, 'learning_rate': 4.3333333333333334e-05, 'epoch': 0.4}\n"
     ]
    },
    {
     "name": "stderr",
     "output_type": "stream",
     "text": [
      " 15%|█▍        | 110/750 [00:39<04:40,  2.28it/s]"
     ]
    },
    {
     "name": "stdout",
     "output_type": "stream",
     "text": [
      "{'loss': 0.7642, 'grad_norm': 3.8008005619049072, 'learning_rate': 4.266666666666667e-05, 'epoch': 0.44}\n"
     ]
    },
    {
     "name": "stderr",
     "output_type": "stream",
     "text": [
      " 16%|█▌        | 120/750 [00:43<04:01,  2.60it/s]"
     ]
    },
    {
     "name": "stdout",
     "output_type": "stream",
     "text": [
      "{'loss': 0.6943, 'grad_norm': 3.07096529006958, 'learning_rate': 4.2e-05, 'epoch': 0.48}\n"
     ]
    },
    {
     "name": "stderr",
     "output_type": "stream",
     "text": [
      " 17%|█▋        | 130/750 [00:46<03:09,  3.27it/s]"
     ]
    },
    {
     "name": "stdout",
     "output_type": "stream",
     "text": [
      "{'loss': 0.8102, 'grad_norm': 5.030052661895752, 'learning_rate': 4.133333333333333e-05, 'epoch': 0.52}\n"
     ]
    },
    {
     "name": "stderr",
     "output_type": "stream",
     "text": [
      " 19%|█▊        | 140/750 [00:49<03:06,  3.28it/s]"
     ]
    },
    {
     "name": "stdout",
     "output_type": "stream",
     "text": [
      "{'loss': 0.6812, 'grad_norm': 3.379796028137207, 'learning_rate': 4.066666666666667e-05, 'epoch': 0.56}\n"
     ]
    },
    {
     "name": "stderr",
     "output_type": "stream",
     "text": [
      " 20%|██        | 150/750 [00:52<03:00,  3.33it/s]"
     ]
    },
    {
     "name": "stdout",
     "output_type": "stream",
     "text": [
      "{'loss': 0.596, 'grad_norm': 1.7087795734405518, 'learning_rate': 4e-05, 'epoch': 0.6}\n"
     ]
    },
    {
     "name": "stderr",
     "output_type": "stream",
     "text": [
      " 21%|██▏       | 160/750 [00:55<02:58,  3.31it/s]"
     ]
    },
    {
     "name": "stdout",
     "output_type": "stream",
     "text": [
      "{'loss': 0.6911, 'grad_norm': 2.639669179916382, 'learning_rate': 3.933333333333333e-05, 'epoch': 0.64}\n"
     ]
    },
    {
     "name": "stderr",
     "output_type": "stream",
     "text": [
      " 23%|██▎       | 170/750 [00:58<02:56,  3.29it/s]"
     ]
    },
    {
     "name": "stdout",
     "output_type": "stream",
     "text": [
      "{'loss': 0.7392, 'grad_norm': 3.3243789672851562, 'learning_rate': 3.866666666666667e-05, 'epoch': 0.68}\n"
     ]
    },
    {
     "name": "stderr",
     "output_type": "stream",
     "text": [
      " 24%|██▍       | 180/750 [01:02<02:52,  3.30it/s]"
     ]
    },
    {
     "name": "stdout",
     "output_type": "stream",
     "text": [
      "{'loss': 0.6774, 'grad_norm': 2.6984262466430664, 'learning_rate': 3.8e-05, 'epoch': 0.72}\n"
     ]
    },
    {
     "name": "stderr",
     "output_type": "stream",
     "text": [
      " 25%|██▌       | 190/750 [01:05<02:52,  3.25it/s]"
     ]
    },
    {
     "name": "stdout",
     "output_type": "stream",
     "text": [
      "{'loss': 0.6601, 'grad_norm': 1.9802061319351196, 'learning_rate': 3.733333333333334e-05, 'epoch': 0.76}\n"
     ]
    },
    {
     "name": "stderr",
     "output_type": "stream",
     "text": [
      " 27%|██▋       | 200/750 [01:08<02:48,  3.27it/s]"
     ]
    },
    {
     "name": "stdout",
     "output_type": "stream",
     "text": [
      "{'loss': 0.6, 'grad_norm': 2.0620715618133545, 'learning_rate': 3.6666666666666666e-05, 'epoch': 0.8}\n"
     ]
    },
    {
     "name": "stderr",
     "output_type": "stream",
     "text": [
      " 28%|██▊       | 210/750 [01:11<02:46,  3.25it/s]"
     ]
    },
    {
     "name": "stdout",
     "output_type": "stream",
     "text": [
      "{'loss': 0.7485, 'grad_norm': 2.7483158111572266, 'learning_rate': 3.6e-05, 'epoch': 0.84}\n"
     ]
    },
    {
     "name": "stderr",
     "output_type": "stream",
     "text": [
      " 29%|██▉       | 220/750 [01:14<02:41,  3.28it/s]"
     ]
    },
    {
     "name": "stdout",
     "output_type": "stream",
     "text": [
      "{'loss': 0.7795, 'grad_norm': 5.646518707275391, 'learning_rate': 3.5333333333333336e-05, 'epoch': 0.88}\n"
     ]
    },
    {
     "name": "stderr",
     "output_type": "stream",
     "text": [
      " 31%|███       | 230/750 [01:17<02:40,  3.23it/s]"
     ]
    },
    {
     "name": "stdout",
     "output_type": "stream",
     "text": [
      "{'loss': 0.6412, 'grad_norm': 2.5213067531585693, 'learning_rate': 3.466666666666667e-05, 'epoch': 0.92}\n"
     ]
    },
    {
     "name": "stderr",
     "output_type": "stream",
     "text": [
      " 32%|███▏      | 240/750 [01:20<02:35,  3.27it/s]"
     ]
    },
    {
     "name": "stdout",
     "output_type": "stream",
     "text": [
      "{'loss': 0.7459, 'grad_norm': 3.144157648086548, 'learning_rate': 3.4000000000000007e-05, 'epoch': 0.96}\n"
     ]
    },
    {
     "name": "stderr",
     "output_type": "stream",
     "text": [
      " 33%|███▎      | 250/750 [01:23<02:32,  3.28it/s]"
     ]
    },
    {
     "name": "stdout",
     "output_type": "stream",
     "text": [
      "{'loss': 0.6845, 'grad_norm': 3.0674691200256348, 'learning_rate': 3.3333333333333335e-05, 'epoch': 1.0}\n"
     ]
    },
    {
     "name": "stderr",
     "output_type": "stream",
     "text": [
      "                                                 \n",
      " 33%|███▎      | 250/750 [01:25<02:32,  3.28it/s]"
     ]
    },
    {
     "name": "stdout",
     "output_type": "stream",
     "text": [
      "{'eval_loss': 0.6602984666824341, 'eval_accuracy': 0.632, 'eval_precision': 0.7121703593371811, 'eval_recall': 0.632, 'eval_f1': 0.6290776849175975, 'eval_runtime': 1.8386, 'eval_samples_per_second': 271.952, 'eval_steps_per_second': 34.266, 'epoch': 1.0}\n"
     ]
    },
    {
     "name": "stderr",
     "output_type": "stream",
     "text": [
      " 35%|███▍      | 260/750 [01:29<02:44,  2.97it/s]"
     ]
    },
    {
     "name": "stdout",
     "output_type": "stream",
     "text": [
      "{'loss': 0.7536, 'grad_norm': 1.2689762115478516, 'learning_rate': 3.266666666666667e-05, 'epoch': 1.04}\n"
     ]
    },
    {
     "name": "stderr",
     "output_type": "stream",
     "text": [
      " 36%|███▌      | 270/750 [01:32<02:28,  3.24it/s]"
     ]
    },
    {
     "name": "stdout",
     "output_type": "stream",
     "text": [
      "{'loss': 0.5799, 'grad_norm': 2.6760525703430176, 'learning_rate': 3.2000000000000005e-05, 'epoch': 1.08}\n"
     ]
    },
    {
     "name": "stderr",
     "output_type": "stream",
     "text": [
      " 37%|███▋      | 280/750 [01:35<02:22,  3.30it/s]"
     ]
    },
    {
     "name": "stdout",
     "output_type": "stream",
     "text": [
      "{'loss': 0.6855, 'grad_norm': 2.4695637226104736, 'learning_rate': 3.1333333333333334e-05, 'epoch': 1.12}\n"
     ]
    },
    {
     "name": "stderr",
     "output_type": "stream",
     "text": [
      " 39%|███▊      | 290/750 [01:38<02:21,  3.25it/s]"
     ]
    },
    {
     "name": "stdout",
     "output_type": "stream",
     "text": [
      "{'loss': 0.6835, 'grad_norm': 3.2059860229492188, 'learning_rate': 3.066666666666667e-05, 'epoch': 1.16}\n"
     ]
    },
    {
     "name": "stderr",
     "output_type": "stream",
     "text": [
      " 40%|████      | 300/750 [01:41<02:20,  3.21it/s]"
     ]
    },
    {
     "name": "stdout",
     "output_type": "stream",
     "text": [
      "{'loss': 0.6863, 'grad_norm': 2.4489362239837646, 'learning_rate': 3e-05, 'epoch': 1.2}\n"
     ]
    },
    {
     "name": "stderr",
     "output_type": "stream",
     "text": [
      " 41%|████▏     | 310/750 [01:44<02:14,  3.26it/s]"
     ]
    },
    {
     "name": "stdout",
     "output_type": "stream",
     "text": [
      "{'loss': 0.7385, 'grad_norm': 1.8006290197372437, 'learning_rate': 2.9333333333333336e-05, 'epoch': 1.24}\n"
     ]
    },
    {
     "name": "stderr",
     "output_type": "stream",
     "text": [
      " 43%|████▎     | 320/750 [01:47<02:12,  3.26it/s]"
     ]
    },
    {
     "name": "stdout",
     "output_type": "stream",
     "text": [
      "{'loss': 0.7214, 'grad_norm': 2.4751827716827393, 'learning_rate': 2.8666666666666668e-05, 'epoch': 1.28}\n"
     ]
    },
    {
     "name": "stderr",
     "output_type": "stream",
     "text": [
      " 44%|████▍     | 330/750 [01:50<02:08,  3.27it/s]"
     ]
    },
    {
     "name": "stdout",
     "output_type": "stream",
     "text": [
      "{'loss': 0.68, 'grad_norm': 2.7322514057159424, 'learning_rate': 2.8000000000000003e-05, 'epoch': 1.32}\n"
     ]
    },
    {
     "name": "stderr",
     "output_type": "stream",
     "text": [
      " 45%|████▌     | 340/750 [01:53<02:04,  3.28it/s]"
     ]
    },
    {
     "name": "stdout",
     "output_type": "stream",
     "text": [
      "{'loss': 0.6845, 'grad_norm': 1.5771000385284424, 'learning_rate': 2.733333333333333e-05, 'epoch': 1.36}\n"
     ]
    },
    {
     "name": "stderr",
     "output_type": "stream",
     "text": [
      " 47%|████▋     | 350/750 [01:56<02:03,  3.24it/s]"
     ]
    },
    {
     "name": "stdout",
     "output_type": "stream",
     "text": [
      "{'loss': 0.6586, 'grad_norm': 2.1805660724639893, 'learning_rate': 2.6666666666666667e-05, 'epoch': 1.4}\n"
     ]
    },
    {
     "name": "stderr",
     "output_type": "stream",
     "text": [
      " 48%|████▊     | 360/750 [01:59<02:02,  3.19it/s]"
     ]
    },
    {
     "name": "stdout",
     "output_type": "stream",
     "text": [
      "{'loss': 0.6174, 'grad_norm': 1.3653647899627686, 'learning_rate': 2.6000000000000002e-05, 'epoch': 1.44}\n"
     ]
    },
    {
     "name": "stderr",
     "output_type": "stream",
     "text": [
      " 49%|████▉     | 370/750 [02:02<01:57,  3.25it/s]"
     ]
    },
    {
     "name": "stdout",
     "output_type": "stream",
     "text": [
      "{'loss': 0.6294, 'grad_norm': 2.6279513835906982, 'learning_rate': 2.5333333333333337e-05, 'epoch': 1.48}\n"
     ]
    },
    {
     "name": "stderr",
     "output_type": "stream",
     "text": [
      " 51%|█████     | 380/750 [02:06<01:55,  3.20it/s]"
     ]
    },
    {
     "name": "stdout",
     "output_type": "stream",
     "text": [
      "{'loss': 0.5665, 'grad_norm': 1.5214241743087769, 'learning_rate': 2.466666666666667e-05, 'epoch': 1.52}\n"
     ]
    },
    {
     "name": "stderr",
     "output_type": "stream",
     "text": [
      " 52%|█████▏    | 390/750 [02:09<01:50,  3.25it/s]"
     ]
    },
    {
     "name": "stdout",
     "output_type": "stream",
     "text": [
      "{'loss': 0.7094, 'grad_norm': 2.2831430435180664, 'learning_rate': 2.4e-05, 'epoch': 1.56}\n"
     ]
    },
    {
     "name": "stderr",
     "output_type": "stream",
     "text": [
      " 53%|█████▎    | 400/750 [02:12<01:49,  3.20it/s]"
     ]
    },
    {
     "name": "stdout",
     "output_type": "stream",
     "text": [
      "{'loss': 0.622, 'grad_norm': 1.795558214187622, 'learning_rate': 2.3333333333333336e-05, 'epoch': 1.6}\n"
     ]
    },
    {
     "name": "stderr",
     "output_type": "stream",
     "text": [
      " 55%|█████▍    | 410/750 [02:15<01:45,  3.22it/s]"
     ]
    },
    {
     "name": "stdout",
     "output_type": "stream",
     "text": [
      "{'loss': 0.5376, 'grad_norm': 1.3255743980407715, 'learning_rate': 2.2666666666666668e-05, 'epoch': 1.64}\n"
     ]
    },
    {
     "name": "stderr",
     "output_type": "stream",
     "text": [
      " 56%|█████▌    | 420/750 [02:18<01:43,  3.20it/s]"
     ]
    },
    {
     "name": "stdout",
     "output_type": "stream",
     "text": [
      "{'loss': 0.4967, 'grad_norm': 1.1358234882354736, 'learning_rate': 2.2000000000000003e-05, 'epoch': 1.68}\n"
     ]
    },
    {
     "name": "stderr",
     "output_type": "stream",
     "text": [
      " 57%|█████▋    | 430/750 [02:21<01:39,  3.22it/s]"
     ]
    },
    {
     "name": "stdout",
     "output_type": "stream",
     "text": [
      "{'loss': 0.63, 'grad_norm': 1.9627690315246582, 'learning_rate': 2.1333333333333335e-05, 'epoch': 1.72}\n"
     ]
    },
    {
     "name": "stderr",
     "output_type": "stream",
     "text": [
      " 59%|█████▊    | 440/750 [02:24<01:36,  3.21it/s]"
     ]
    },
    {
     "name": "stdout",
     "output_type": "stream",
     "text": [
      "{'loss': 0.7404, 'grad_norm': 2.835160493850708, 'learning_rate': 2.0666666666666666e-05, 'epoch': 1.76}\n"
     ]
    },
    {
     "name": "stderr",
     "output_type": "stream",
     "text": [
      " 60%|██████    | 450/750 [02:27<01:38,  3.05it/s]"
     ]
    },
    {
     "name": "stdout",
     "output_type": "stream",
     "text": [
      "{'loss': 0.733, 'grad_norm': 1.8923633098602295, 'learning_rate': 2e-05, 'epoch': 1.8}\n"
     ]
    },
    {
     "name": "stderr",
     "output_type": "stream",
     "text": [
      " 61%|██████▏   | 460/750 [02:31<01:34,  3.07it/s]"
     ]
    },
    {
     "name": "stdout",
     "output_type": "stream",
     "text": [
      "{'loss': 0.7146, 'grad_norm': 2.424905776977539, 'learning_rate': 1.9333333333333333e-05, 'epoch': 1.84}\n"
     ]
    },
    {
     "name": "stderr",
     "output_type": "stream",
     "text": [
      " 63%|██████▎   | 470/750 [02:35<01:53,  2.47it/s]"
     ]
    },
    {
     "name": "stdout",
     "output_type": "stream",
     "text": [
      "{'loss': 0.6912, 'grad_norm': 1.3112890720367432, 'learning_rate': 1.866666666666667e-05, 'epoch': 1.88}\n"
     ]
    },
    {
     "name": "stderr",
     "output_type": "stream",
     "text": [
      " 64%|██████▍   | 480/750 [02:39<01:52,  2.39it/s]"
     ]
    },
    {
     "name": "stdout",
     "output_type": "stream",
     "text": [
      "{'loss': 0.6432, 'grad_norm': 2.0060513019561768, 'learning_rate': 1.8e-05, 'epoch': 1.92}\n"
     ]
    },
    {
     "name": "stderr",
     "output_type": "stream",
     "text": [
      " 65%|██████▌   | 490/750 [02:42<01:21,  3.21it/s]"
     ]
    },
    {
     "name": "stdout",
     "output_type": "stream",
     "text": [
      "{'loss': 0.6981, 'grad_norm': 2.467012405395508, 'learning_rate': 1.7333333333333336e-05, 'epoch': 1.96}\n"
     ]
    },
    {
     "name": "stderr",
     "output_type": "stream",
     "text": [
      " 67%|██████▋   | 500/750 [02:45<01:16,  3.25it/s]"
     ]
    },
    {
     "name": "stdout",
     "output_type": "stream",
     "text": [
      "{'loss': 0.7573, 'grad_norm': 2.281698226928711, 'learning_rate': 1.6666666666666667e-05, 'epoch': 2.0}\n"
     ]
    },
    {
     "name": "stderr",
     "output_type": "stream",
     "text": [
      "                                                 \n",
      " 67%|██████▋   | 500/750 [02:47<01:16,  3.25it/s]"
     ]
    },
    {
     "name": "stdout",
     "output_type": "stream",
     "text": [
      "{'eval_loss': 0.6581098437309265, 'eval_accuracy': 0.636, 'eval_precision': 0.6578920260925482, 'eval_recall': 0.636, 'eval_f1': 0.6345436425687074, 'eval_runtime': 1.8181, 'eval_samples_per_second': 275.018, 'eval_steps_per_second': 34.652, 'epoch': 2.0}\n"
     ]
    },
    {
     "name": "stderr",
     "output_type": "stream",
     "text": [
      " 68%|██████▊   | 510/750 [02:51<01:21,  2.93it/s]"
     ]
    },
    {
     "name": "stdout",
     "output_type": "stream",
     "text": [
      "{'loss': 0.6432, 'grad_norm': 1.7850396633148193, 'learning_rate': 1.6000000000000003e-05, 'epoch': 2.04}\n"
     ]
    },
    {
     "name": "stderr",
     "output_type": "stream",
     "text": [
      " 69%|██████▉   | 520/750 [02:54<01:11,  3.21it/s]"
     ]
    },
    {
     "name": "stdout",
     "output_type": "stream",
     "text": [
      "{'loss': 0.5801, 'grad_norm': 1.8972893953323364, 'learning_rate': 1.5333333333333334e-05, 'epoch': 2.08}\n"
     ]
    },
    {
     "name": "stderr",
     "output_type": "stream",
     "text": [
      " 71%|███████   | 530/750 [02:57<01:07,  3.27it/s]"
     ]
    },
    {
     "name": "stdout",
     "output_type": "stream",
     "text": [
      "{'loss': 0.6886, 'grad_norm': 2.0498132705688477, 'learning_rate': 1.4666666666666668e-05, 'epoch': 2.12}\n"
     ]
    },
    {
     "name": "stderr",
     "output_type": "stream",
     "text": [
      " 72%|███████▏  | 540/750 [03:00<01:03,  3.30it/s]"
     ]
    },
    {
     "name": "stdout",
     "output_type": "stream",
     "text": [
      "{'loss': 0.6677, 'grad_norm': 2.382749080657959, 'learning_rate': 1.4000000000000001e-05, 'epoch': 2.16}\n"
     ]
    },
    {
     "name": "stderr",
     "output_type": "stream",
     "text": [
      " 73%|███████▎  | 550/750 [03:03<01:01,  3.24it/s]"
     ]
    },
    {
     "name": "stdout",
     "output_type": "stream",
     "text": [
      "{'loss': 0.658, 'grad_norm': 2.5009472370147705, 'learning_rate': 1.3333333333333333e-05, 'epoch': 2.2}\n"
     ]
    },
    {
     "name": "stderr",
     "output_type": "stream",
     "text": [
      " 75%|███████▍  | 560/750 [03:06<00:58,  3.26it/s]"
     ]
    },
    {
     "name": "stdout",
     "output_type": "stream",
     "text": [
      "{'loss': 0.6983, 'grad_norm': 2.597581624984741, 'learning_rate': 1.2666666666666668e-05, 'epoch': 2.24}\n"
     ]
    },
    {
     "name": "stderr",
     "output_type": "stream",
     "text": [
      " 76%|███████▌  | 570/750 [03:09<00:55,  3.23it/s]"
     ]
    },
    {
     "name": "stdout",
     "output_type": "stream",
     "text": [
      "{'loss': 0.692, 'grad_norm': 1.9650548696517944, 'learning_rate': 1.2e-05, 'epoch': 2.28}\n"
     ]
    },
    {
     "name": "stderr",
     "output_type": "stream",
     "text": [
      " 77%|███████▋  | 580/750 [03:12<00:52,  3.26it/s]"
     ]
    },
    {
     "name": "stdout",
     "output_type": "stream",
     "text": [
      "{'loss': 0.7013, 'grad_norm': 2.076416015625, 'learning_rate': 1.1333333333333334e-05, 'epoch': 2.32}\n"
     ]
    },
    {
     "name": "stderr",
     "output_type": "stream",
     "text": [
      " 79%|███████▊  | 590/750 [03:15<00:49,  3.24it/s]"
     ]
    },
    {
     "name": "stdout",
     "output_type": "stream",
     "text": [
      "{'loss': 0.7297, 'grad_norm': 3.2013349533081055, 'learning_rate': 1.0666666666666667e-05, 'epoch': 2.36}\n"
     ]
    },
    {
     "name": "stderr",
     "output_type": "stream",
     "text": [
      " 80%|████████  | 600/750 [03:18<00:45,  3.29it/s]"
     ]
    },
    {
     "name": "stdout",
     "output_type": "stream",
     "text": [
      "{'loss': 0.5995, 'grad_norm': 2.919448137283325, 'learning_rate': 1e-05, 'epoch': 2.4}\n"
     ]
    },
    {
     "name": "stderr",
     "output_type": "stream",
     "text": [
      " 81%|████████▏ | 610/750 [03:21<00:43,  3.26it/s]"
     ]
    },
    {
     "name": "stdout",
     "output_type": "stream",
     "text": [
      "{'loss': 0.699, 'grad_norm': 1.8461769819259644, 'learning_rate': 9.333333333333334e-06, 'epoch': 2.44}\n"
     ]
    },
    {
     "name": "stderr",
     "output_type": "stream",
     "text": [
      " 83%|████████▎ | 620/750 [03:25<00:39,  3.28it/s]"
     ]
    },
    {
     "name": "stdout",
     "output_type": "stream",
     "text": [
      "{'loss': 0.5681, 'grad_norm': 2.2617740631103516, 'learning_rate': 8.666666666666668e-06, 'epoch': 2.48}\n"
     ]
    },
    {
     "name": "stderr",
     "output_type": "stream",
     "text": [
      " 84%|████████▍ | 630/750 [03:28<00:36,  3.30it/s]"
     ]
    },
    {
     "name": "stdout",
     "output_type": "stream",
     "text": [
      "{'loss': 0.6824, 'grad_norm': 1.6279646158218384, 'learning_rate': 8.000000000000001e-06, 'epoch': 2.52}\n"
     ]
    },
    {
     "name": "stderr",
     "output_type": "stream",
     "text": [
      " 85%|████████▌ | 640/750 [03:31<00:35,  3.09it/s]"
     ]
    },
    {
     "name": "stdout",
     "output_type": "stream",
     "text": [
      "{'loss': 0.6753, 'grad_norm': 1.9383368492126465, 'learning_rate': 7.333333333333334e-06, 'epoch': 2.56}\n"
     ]
    },
    {
     "name": "stderr",
     "output_type": "stream",
     "text": [
      " 87%|████████▋ | 650/750 [03:34<00:36,  2.77it/s]"
     ]
    },
    {
     "name": "stdout",
     "output_type": "stream",
     "text": [
      "{'loss': 0.6085, 'grad_norm': 1.809298038482666, 'learning_rate': 6.666666666666667e-06, 'epoch': 2.6}\n"
     ]
    },
    {
     "name": "stderr",
     "output_type": "stream",
     "text": [
      " 88%|████████▊ | 660/750 [03:37<00:28,  3.21it/s]"
     ]
    },
    {
     "name": "stdout",
     "output_type": "stream",
     "text": [
      "{'loss': 0.6911, 'grad_norm': 3.072335958480835, 'learning_rate': 6e-06, 'epoch': 2.64}\n"
     ]
    },
    {
     "name": "stderr",
     "output_type": "stream",
     "text": [
      " 89%|████████▉ | 670/750 [03:40<00:24,  3.26it/s]"
     ]
    },
    {
     "name": "stdout",
     "output_type": "stream",
     "text": [
      "{'loss': 0.6612, 'grad_norm': 3.369450092315674, 'learning_rate': 5.333333333333334e-06, 'epoch': 2.68}\n"
     ]
    },
    {
     "name": "stderr",
     "output_type": "stream",
     "text": [
      " 91%|█████████ | 680/750 [03:43<00:21,  3.26it/s]"
     ]
    },
    {
     "name": "stdout",
     "output_type": "stream",
     "text": [
      "{'loss': 0.6798, 'grad_norm': 3.496906042098999, 'learning_rate': 4.666666666666667e-06, 'epoch': 2.72}\n"
     ]
    },
    {
     "name": "stderr",
     "output_type": "stream",
     "text": [
      " 92%|█████████▏| 690/750 [03:47<00:18,  3.25it/s]"
     ]
    },
    {
     "name": "stdout",
     "output_type": "stream",
     "text": [
      "{'loss': 0.7214, 'grad_norm': 2.480217695236206, 'learning_rate': 4.000000000000001e-06, 'epoch': 2.76}\n"
     ]
    },
    {
     "name": "stderr",
     "output_type": "stream",
     "text": [
      " 93%|█████████▎| 700/750 [03:50<00:15,  3.26it/s]"
     ]
    },
    {
     "name": "stdout",
     "output_type": "stream",
     "text": [
      "{'loss': 0.5968, 'grad_norm': 1.5353682041168213, 'learning_rate': 3.3333333333333333e-06, 'epoch': 2.8}\n"
     ]
    },
    {
     "name": "stderr",
     "output_type": "stream",
     "text": [
      " 95%|█████████▍| 710/750 [03:53<00:12,  3.26it/s]"
     ]
    },
    {
     "name": "stdout",
     "output_type": "stream",
     "text": [
      "{'loss': 0.6098, 'grad_norm': 1.383643388748169, 'learning_rate': 2.666666666666667e-06, 'epoch': 2.84}\n"
     ]
    },
    {
     "name": "stderr",
     "output_type": "stream",
     "text": [
      " 96%|█████████▌| 720/750 [03:56<00:09,  3.18it/s]"
     ]
    },
    {
     "name": "stdout",
     "output_type": "stream",
     "text": [
      "{'loss': 0.6231, 'grad_norm': 1.7968506813049316, 'learning_rate': 2.0000000000000003e-06, 'epoch': 2.88}\n"
     ]
    },
    {
     "name": "stderr",
     "output_type": "stream",
     "text": [
      " 97%|█████████▋| 730/750 [03:59<00:06,  3.26it/s]"
     ]
    },
    {
     "name": "stdout",
     "output_type": "stream",
     "text": [
      "{'loss': 0.7506, 'grad_norm': 2.2274069786071777, 'learning_rate': 1.3333333333333334e-06, 'epoch': 2.92}\n"
     ]
    },
    {
     "name": "stderr",
     "output_type": "stream",
     "text": [
      " 99%|█████████▊| 740/750 [04:02<00:03,  3.31it/s]"
     ]
    },
    {
     "name": "stdout",
     "output_type": "stream",
     "text": [
      "{'loss': 0.6734, 'grad_norm': 1.795774221420288, 'learning_rate': 6.666666666666667e-07, 'epoch': 2.96}\n"
     ]
    },
    {
     "name": "stderr",
     "output_type": "stream",
     "text": [
      "100%|██████████| 750/750 [04:05<00:00,  2.86it/s]"
     ]
    },
    {
     "name": "stdout",
     "output_type": "stream",
     "text": [
      "{'loss': 0.6121, 'grad_norm': 2.630603551864624, 'learning_rate': 0.0, 'epoch': 3.0}\n"
     ]
    },
    {
     "name": "stderr",
     "output_type": "stream",
     "text": [
      "                                                 \n",
      "100%|██████████| 750/750 [04:09<00:00,  2.86it/s]"
     ]
    },
    {
     "name": "stdout",
     "output_type": "stream",
     "text": [
      "{'eval_loss': 0.6553177237510681, 'eval_accuracy': 0.598, 'eval_precision': 0.6353344211227395, 'eval_recall': 0.598, 'eval_f1': 0.5990207956293723, 'eval_runtime': 2.4732, 'eval_samples_per_second': 202.17, 'eval_steps_per_second': 25.473, 'epoch': 3.0}\n"
     ]
    },
    {
     "name": "stderr",
     "output_type": "stream",
     "text": [
      "100%|██████████| 750/750 [04:10<00:00,  3.00it/s]\n"
     ]
    },
    {
     "name": "stdout",
     "output_type": "stream",
     "text": [
      "{'train_runtime': 250.1522, 'train_samples_per_second': 23.985, 'train_steps_per_second': 2.998, 'train_loss': 0.7016245021820068, 'epoch': 3.0}\n"
     ]
    },
    {
     "name": "stderr",
     "output_type": "stream",
     "text": [
      "100%|██████████| 63/63 [00:02<00:00, 25.98it/s]"
     ]
    },
    {
     "name": "stdout",
     "output_type": "stream",
     "text": [
      "Test Loss: 0.6553, Test Accuracy: 0.5980\n"
     ]
    },
    {
     "name": "stderr",
     "output_type": "stream",
     "text": [
      "\n"
     ]
    }
   ],
   "source": [
    "# Reset indices after train_test_split\n",
    "#===================================================================================\n",
    "\n",
    "X_train = pd.DataFrame(X_train).reset_index(drop=True)\n",
    "y_train = pd.DataFrame(y_train).reset_index(drop=True)\n",
    "X_test = pd.DataFrame(X_test).reset_index(drop=True)\n",
    "y_test = pd.DataFrame(y_test).reset_index(drop=True)\n",
    "\n",
    "#===================================================================================\n",
    "\n",
    "#  Tokenize Data using DistilBERT Tokenizer\n",
    "#===============================================\n",
    "\n",
    "tokenizer = DistilBertTokenizer.from_pretrained('distilbert-base-uncased')\n",
    "\n",
    "class SentimentDataset(Dataset):\n",
    "    def __init__(self, texts, labels, tokenizer, max_len=64):\n",
    "     \n",
    "        self.encodings = tokenizer(list(texts), truncation=True, padding=True, max_length=max_len)\n",
    "        self.labels = torch.tensor(labels.values.flatten() if isinstance(labels, pd.DataFrame) else labels, dtype=torch.long)\n",
    "\n",
    "    def __getitem__(self, idx):\n",
    "        item = {key: torch.tensor(val[idx]) for key, val in self.encodings.items()}\n",
    "        item['labels'] = self.labels[idx]\n",
    "        return item\n",
    "\n",
    "    def __len__(self):\n",
    "        return len(self.labels)\n",
    "\n",
    "X_train_series = X_train.iloc[:, 0] if isinstance(X_train, pd.DataFrame) else X_train\n",
    "X_test_series = X_test.iloc[:, 0] if isinstance(X_test, pd.DataFrame) else X_test\n",
    "\n",
    "train_dataset = SentimentDataset(X_train_series, y_train, tokenizer)\n",
    "test_dataset = SentimentDataset(X_test_series, y_test, tokenizer)\n",
    "\n",
    "#===================================================================================\n",
    "\n",
    "#  Load Pre-trained DistilBERT Model\n",
    "#=======================================\n",
    "\n",
    "model = DistilBertForSequenceClassification.from_pretrained('distilbert-base-uncased', num_labels=3)\n",
    "\n",
    "#===================================================================================\n",
    "\n",
    "#  Define Metrics for Accuracy\n",
    "#===================================\n",
    "\n",
    "def compute_metrics(eval_pred):\n",
    "    logits, labels = eval_pred\n",
    "    predictions = np.argmax(logits, axis=-1)\n",
    "    accuracy = accuracy_score(labels, predictions)\n",
    "    precision, recall, f1, _ = precision_recall_fscore_support(labels, predictions, average='weighted')\n",
    "    return {\n",
    "        'accuracy': accuracy,\n",
    "        'precision': precision,\n",
    "        'recall': recall,\n",
    "        'f1': f1\n",
    "    }\n",
    "\n",
    "#===================================================================================\n",
    "\n",
    "#  Training Setup\n",
    "#=======================\n",
    "\n",
    "training_args = TrainingArguments(\n",
    "    output_dir='./results',\n",
    "    num_train_epochs=3,\n",
    "    per_device_train_batch_size=8,\n",
    "    per_device_eval_batch_size=8,\n",
    "    warmup_steps=0,\n",
    "    weight_decay=0.01,\n",
    "    logging_dir='./logs',\n",
    "    logging_steps=10,\n",
    "    evaluation_strategy=\"epoch\",\n",
    "    save_strategy=\"epoch\",\n",
    "    report_to=\"none\"\n",
    ")\n",
    "\n",
    "trainer = Trainer(\n",
    "    model=model,\n",
    "    args=training_args,\n",
    "    train_dataset=train_dataset,\n",
    "    eval_dataset=test_dataset,\n",
    "    compute_metrics=compute_metrics  \n",
    ")\n",
    "\n",
    "#===================================================================================\n",
    "\n",
    "#  Train and Evaluate the Model\n",
    "#===================================\n",
    "\n",
    "trainer.train()\n",
    "\n",
    "#===================================================================================\n",
    "\n",
    "# Evaluate\n",
    "#============\n",
    "\n",
    "eval_result = trainer.evaluate()\n",
    "print(f\"Test Loss: {eval_result['eval_loss']:.4f}, Test Accuracy: {eval_result['eval_accuracy']:.4f}\")\n",
    "\n",
    "distilbert_accuracy = eval_result['eval_accuracy']  \n",
    "models_accuracy.append({\"model\": \"DistilBERT\", \"accuracy\": distilbert_accuracy})\n",
    "\n",
    "\n",
    "\n"
   ]
  },
  {
   "cell_type": "markdown",
   "metadata": {},
   "source": [
    "## Model Accuracy Comparison"
   ]
  },
  {
   "cell_type": "code",
   "execution_count": 28,
   "metadata": {},
   "outputs": [
    {
     "data": {
      "image/png": "[encoded data removed]",
      "text/plain": [
       "<Figure size 1000x600 with 1 Axes>"
      ]
     },
     "metadata": {},
     "output_type": "display_data"
    }
   ],
   "source": [
    "model_names = [model['model'] for model in models_accuracy]\n",
    "accuracies = [model['accuracy'] for model in models_accuracy]\n",
    "\n",
    "\n",
    "plt.figure(figsize=(10, 6)) \n",
    "plt.bar(model_names, accuracies, alpha=0.8, color='skyblue') \n",
    "plt.title(\"Model Accuracy Comparison\", fontsize=14) \n",
    "plt.xlabel(\"Model\", fontsize=12)  \n",
    "plt.ylabel(\"Accuracy\", fontsize=12)  \n",
    "plt.ylim(0, 1) \n",
    "plt.xticks(rotation=15, fontsize=10)  \n",
    "plt.grid(axis='y', linestyle='--', alpha=0.7)  \n",
    "plt.show()\n"
   ]
  },
  {
   "cell_type": "markdown",
   "metadata": {},
   "source": [
    "## upload 4 models to MongoDB!\n",
    "## upload data **(Aladdin_Pharmacy)** to MongoDB!"
   ]
  },
  {
   "cell_type": "markdown",
   "metadata": {},
   "source": [
    "<img src=\"ex3.png\" alt=\"Image Description\" width=\"900\">"
   ]
  },
  {
   "cell_type": "code",
   "execution_count": 3,
   "metadata": {},
   "outputs": [
    {
     "name": "stdout",
     "output_type": "stream",
     "text": [
      "All models have been successfully uploaded to MongoDB!\n",
      "Data has been successfully uploaded to MongoDB!\n"
     ]
    }
   ],
   "source": [
    "client = MongoClient(\"mongodb://localhost:27017/\")\n",
    "db = client[\"model_database\"]\n",
    "\n",
    "fs = gridfs.GridFS(db)\n",
    "\n",
    "\n",
    "def upload_models_to_mongo():\n",
    "\n",
    "    with open(\"from_scratch_model.pkl\", \"rb\") as f:\n",
    "        fs.put(f, filename=\"from_scratch_model.pkl\")\n",
    "\n",
    "   \n",
    "    with open(\"glove_model.pkl\", \"rb\") as f:\n",
    "        fs.put(f, filename=\"glove_model.pkl\")\n",
    "\n",
    "\n",
    "    with open(\"logistic_regression_model.pkl\", \"rb\") as f:\n",
    "        fs.put(f, filename=\"logistic_regression_model.pkl\")\n",
    "\n",
    "    \n",
    "    with open(\"./distilbert_model/model.safetensors\", \"rb\") as f:\n",
    "        fs.put(f, filename=\"distilbert_model.safetensors\")\n",
    "\n",
    "  \n",
    "    with open(\"./distilbert_model/tokenizer_config.json\", \"rb\") as f:\n",
    "        fs.put(f, filename=\"distilbert_tokenizer.json\")\n",
    "\n",
    "    print(\"All models have been successfully uploaded to MongoDB!\")\n",
    "\n",
    "\n",
    "def upload_csv_to_mongo(file_path=\"Aladdin_Pharmacy.csv\"):\n",
    "    data = pd.read_csv(file_path)\n",
    "    data.reset_index(inplace=True)\n",
    "    data_dict = data.to_dict(\"records\")\n",
    "    db[\"pharmacy_data\"].insert_many(data_dict)\n",
    "    print(\"Data has been successfully uploaded to MongoDB!\")\n",
    "\n",
    "\n",
    "upload_models_to_mongo()\n",
    "upload_csv_to_mongo(\"Aladdin_Pharmacy.csv\")\n"
   ]
  },
  {
   "cell_type": "markdown",
   "metadata": {},
   "source": [
    "<img src=\"ex4.png\" alt=\"Image Description\" width=\"900\">\n",
    "<img src=\"ex5.png\" alt=\"Image Description\" width=\"900\">"
   ]
  },
  {
   "cell_type": "markdown",
   "metadata": {},
   "source": [
    "# html & css & js"
   ]
  },
  {
   "cell_type": "code",
   "execution_count": null,
   "metadata": {},
   "outputs": [],
   "source": [
    "from IPython.core.display import display, HTML\n",
    "\n",
    "\n",
    "models = [\"from scratch\", \"GloVe Embeddings\", \"Logistic Regression Model\", \"DistilBERT\"]\n",
    "\n",
    "\n",
    "html_code = \"\"\"\n",
    "<!DOCTYPE html>\n",
    "<html lang=\"en\">\n",
    "<head>\n",
    "    <meta charset=\"UTF-8\">\n",
    "    <meta name=\"viewport\" content=\"width=device-width, initial-scale=1.0\">\n",
    "    <title>Text Input with Model Selection</title>\n",
    "    <style>\n",
    "        body {{\n",
    "            font-family: Arial, sans-serif;\n",
    "            background-color: #f4f4f9;\n",
    "            margin: 0;\n",
    "            padding: 0;\n",
    "            display: flex;\n",
    "            justify-content: center;\n",
    "            align-items: center;\n",
    "            height: 100vh;\n",
    "        }}\n",
    "        .container {{\n",
    "            background: #fff;\n",
    "            padding: 20px;\n",
    "            border-radius: 8px;\n",
    "            box-shadow: 0 4px 6px rgba(0, 0, 0, 0.1);\n",
    "            width: 300px;\n",
    "        }}\n",
    "        h1 {{\n",
    "            font-size: 1.5em;\n",
    "            text-align: center;\n",
    "            color: #333;\n",
    "        }}\n",
    "        label {{\n",
    "            font-weight: bold;\n",
    "            margin-bottom: 5px;\n",
    "            display: block;\n",
    "        }}\n",
    "        input[type=\"text\"], select {{\n",
    "            width: 100%;\n",
    "            padding: 10px;\n",
    "            margin-bottom: 15px;\n",
    "            border: 1px solid #ccc;\n",
    "            border-radius: 4px;\n",
    "        }}\n",
    "        button {{\n",
    "            width: 100%;\n",
    "            padding: 10px;\n",
    "            background-color: #007BFF;\n",
    "            color: white;\n",
    "            border: none;\n",
    "            border-radius: 4px;\n",
    "            font-size: 1em;\n",
    "            cursor: pointer;\n",
    "        }}\n",
    "        button:hover {{\n",
    "            background-color: #0056b3;\n",
    "        }}\n",
    "    </style>\n",
    "</head>\n",
    "<body>\n",
    "    <div class=\"container\">\n",
    "        <h1>Choose a Model</h1>\n",
    "        <form id=\"textModelForm\">\n",
    "            <label for=\"userText\">Enter your text:</label>\n",
    "            <input type=\"text\" id=\"userText\" name=\"userText\" placeholder=\"Type here...\" required>\n",
    "\n",
    "            <label for=\"model\">Choose a model:</label>\n",
    "            <select id=\"model\" name=\"model\" required>\n",
    "\"\"\"\n",
    "\n",
    "\n",
    "for model in models:\n",
    "    html_code += f'                <option value=\"{model}\">{model}</option>\\n'\n",
    "\n",
    "\n",
    "html_code += \"\"\"\n",
    "            </select>\n",
    "\n",
    "            <button type=\"submit\">Submit</button>\n",
    "        </form>\n",
    "    </div>\n",
    "\n",
    "    <script>\n",
    "        document.getElementById(\"textModelForm\").addEventListener(\"submit\", function(event) {{\n",
    "            event.preventDefault();\n",
    "            const userText = document.getElementById(\"userText\").value;\n",
    "            const selectedModel = document.getElementById(\"model\").value;\n",
    "            alert(`You entered: ${userText}\\\\nSelected model: ${selectedModel}`);\n",
    "        }});\n",
    "    </script>\n",
    "</body>\n",
    "</html>\n",
    "\"\"\"\n",
    "\n",
    "\n",
    "display(HTML(html_code))\n"
   ]
  }
 ],
 "metadata": {
  "kernelspec": {
   "display_name": "Python 3",
   "language": "python",
   "name": "python3"
  },
  "language_info": {
   "codemirror_mode": {
    "name": "ipython",
    "version": 3
   },
   "file_extension": ".py",
   "mimetype": "text/x-python",
   "name": "python",
   "nbconvert_exporter": "python",
   "pygments_lexer": "ipython3",
   "version": "3.12.0"
  }
 },
 "nbformat": 4,
 "nbformat_minor": 2
}
